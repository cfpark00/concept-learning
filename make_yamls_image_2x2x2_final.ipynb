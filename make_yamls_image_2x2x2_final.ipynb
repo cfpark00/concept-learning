{
 "cells": [
  {
   "cell_type": "markdown",
   "metadata": {},
   "source": [
    "ND"
   ]
  },
  {
   "cell_type": "code",
   "execution_count": 14,
   "metadata": {},
   "outputs": [
    {
     "data": {
      "text/plain": [
       "<module 'utils' from '/n/home12/cfpark00/ML/ToyCompDiff/utils.py'>"
      ]
     },
     "execution_count": 14,
     "metadata": {},
     "output_type": "execute_result"
    }
   ],
   "source": [
    "import numpy as np\n",
    "import copy\n",
    "import os\n",
    "import yaml\n",
    "yaml.Dumper.ignore_aliases = lambda *args : True\n",
    "import utils\n",
    "import matplotlib.pyplot as plt\n",
    "import tqdm\n",
    "import glob\n",
    "\n",
    "\n",
    "import importlib\n",
    "importlib.reload(utils)"
   ]
  },
  {
   "cell_type": "code",
   "execution_count": 15,
   "metadata": {},
   "outputs": [],
   "source": [
    "def get_ntr_ntest(ns,n_per=128,method=\"fid_axis\"):\n",
    "    indsgrid=np.stack(np.meshgrid(*([np.arange(n) for n in ns]),indexing=\"ij\"),axis=-1)\n",
    "    if method==\"fid_axis\":\n",
    "        n_nonzero=np.sum(indsgrid!=0,axis=-1)\n",
    "        sel=(n_nonzero<=1).flatten().astype(int)\n",
    "        ntr=(sel*n_per).tolist()\n",
    "        ntest=((1-sel)*n_per).tolist()\n",
    "    else:\n",
    "        raise ValueError(\"Unknown method\")\n",
    "    return ntr,ntest"
   ]
  },
  {
   "cell_type": "code",
   "execution_count": 16,
   "metadata": {},
   "outputs": [],
   "source": [
    "config={\n",
    "    'experiment_directory': None,\n",
    "    'seed': None,\n",
    "    \"dataset\":\"images_1\",\n",
    "    'n_samples_train':[],\n",
    "    'n_samples_test':[],\n",
    "    'n_samples_train_gen':[],\n",
    "    'n_samples_test_gen':[],\n",
    "    \"data_params\":{\n",
    "        \"n_classes\":64,\n",
    "        \"image_size\": 32,\n",
    "        \"noise_level\": 0.001,\n",
    "        \"comp_dims\":{\"shape\":None,\"x\":None,\"y\":None,\"color\":2,\"size\":2,\"bg_color\":2},\n",
    "        \n",
    "        #\"shape\":{\"names\":[\"circle\",\"triangle\"]},#will default to circle\n",
    "        \"x\":{\"min\":-0.5,\"max\":0.5,\"n\":None,\"s\":0.05,\"s_n\":0.0},\n",
    "        \"y\":{\"min\":-0.5,\"max\":0.5,\"n\":None,\"s\":0.05,\"s_n\":0.0},\n",
    "        \"color\":{\"means\":[[0.9,0.1,0.1],[0.1,0.1,0.9]],\"mins\":[[0.8,0.0,0.0],[0.0,0.0,0.8]],\"maxs\":[[1.0,0.2,0.2],[0.2,0.2,1.0]],\"s_n\":0.0},\n",
    "        \"size\":{\"means\":[0.6,0.2],\"mins\":[0.52,0.12],\"maxs\":[0.68,0.28],\"s_n\":0.00,\"min\":0.1},\n",
    "        \"bg_color\":{\"means\":[[0.9,0.9,0.9],[0.1,0.1,0.1]],\"mins\":[[0.8,0.8,0.8],[0.0,0.0,0.0]],\"maxs\":[[1.0,1.0,1.0],[0.2,0.2,0.2]],\"s_n\":0.0},\n",
    "    },\n",
    "    \"model_params\":{\n",
    "        \"model_type\": \"VDiff\",\n",
    "        \"optimizer_type\": \"AdamW\",\n",
    "        \"optimizer_params\": {\"lr\": 0.001,\"weight_decay\": 0.01},\n",
    "        \"data_noise\":1e-3,\n",
    "        \"beta_settings\": {\"type\":\"logsnr\",\"noise_schedule\":\"learned_linear\",\"gamma_min\":-5., \"gamma_max\":10.},\n",
    "        \"network_params\": {\"mid_attn\":True,\n",
    "                           \"v_conditioning_type\":\"sep_mlp\",\n",
    "                           \"v_conditioning_dims\":[11],\n",
    "                           \"chs\": [64,128,256],\n",
    "                           \"num_res_blocks\":2,\n",
    "                           \"init_scale\":1.0},\n",
    "    },\n",
    "    \"batch_size\": 64,\n",
    "    \"train_ratio\": 0.85,\n",
    "    'num_steps': 40_000,\n",
    "    'save_steps_start': 50,\n",
    "    'save_steps': 120,\n",
    "\n",
    "    \"fig_n_col\": 4,\n",
    "}"
   ]
  },
  {
   "cell_type": "markdown",
   "metadata": {},
   "source": [
    "2x2x2"
   ]
  },
  {
   "cell_type": "code",
   "execution_count": 17,
   "metadata": {},
   "outputs": [
    {
     "data": {
      "text/plain": [
       "(8192, 8192, 128, 128)"
      ]
     },
     "execution_count": 17,
     "metadata": {},
     "output_type": "execute_result"
    }
   ],
   "source": [
    "ntr,ntest=get_ntr_ntest([2,2,2],n_per=2048,method=\"fid_axis\")\n",
    "ntr_gen,ntest_gen=get_ntr_ntest([2,2,2],n_per=32,method=\"fid_axis\")\n",
    "np.sum(ntr),np.sum(ntest),np.sum(ntr_gen),np.sum(ntest_gen)"
   ]
  },
  {
   "cell_type": "code",
   "execution_count": 18,
   "metadata": {},
   "outputs": [],
   "source": [
    "#\"bg_color\":{\"means\":[[0.9,0.9,0.9],[0.1,0.1,0.1]],\"mins\":[[0.8,0.8,0.8],[0.0,0.0,0.0]],\"maxs\":[[1.0,1.0,1.0],[0.2,0.2,0.2]],\"s_n\":0.0}"
   ]
  },
  {
   "cell_type": "code",
   "execution_count": 26,
   "metadata": {},
   "outputs": [],
   "source": [
    "def get_config(sep_col=0.8,sep_size=0.4,sep_bg_col=0.8,seed=0):\n",
    "    assert sep_col<=0.8 and sep_size<=0.4 and sep_bg_col<=0.8\n",
    "    config_=copy.deepcopy(config)\n",
    "    config_[\"seed\"]=seed\n",
    "\n",
    "    config_[\"data_params\"][\"n_classes\"]=8\n",
    "    \n",
    "    #bg color\n",
    "    hsb=sep_bg_col/2\n",
    "    config_[\"data_params\"][\"bg_color\"][\"means\"]=[[0.5+hsb,0.5+hsb,0.5+hsb],[0.5-hsb,0.5-hsb,0.5-hsb]]\n",
    "    s=sep_bg_col/8\n",
    "    assert 0.5-hsb+s<0.5+hsb-s\n",
    "    config_[\"data_params\"][\"bg_color\"][\"mins\"]=[[0.5+hsb-s,0.5+hsb-s,0.5+hsb-s],[0.5-hsb-s,0.5-hsb-s,0.5-hsb-s]]\n",
    "    config_[\"data_params\"][\"bg_color\"][\"maxs\"]=[[0.5+hsb+s,0.5+hsb+s,0.5+hsb+s],[0.5-hsb+s,0.5-hsb+s,0.5-hsb+s]]\n",
    "    #color\n",
    "    hsc=sep_col/2\n",
    "    config_[\"data_params\"][\"color\"][\"means\"]=[[0.5+hsc,0.5-hsc,0.5-hsc],[0.5-hsc,0.5-hsc,0.5+hsc]]\n",
    "    s=sep_col/8\n",
    "    config_[\"data_params\"][\"color\"][\"mins\"]=[[0.5+hsc-s,0.5-hsc-s,0.5-hsc-s],[0.5-hsc-s,0.5-hsc-s,0.5+hsc-s]]\n",
    "    config_[\"data_params\"][\"color\"][\"maxs\"]=[[0.5+hsc+s,0.5-hsc+s,0.5-hsc+s],[0.5-hsc+s,0.5-hsc+s,0.5+hsc+s]]\n",
    "    #size\n",
    "    hss=sep_size/2\n",
    "    config_[\"data_params\"][\"size\"][\"means\"]=[0.45+hss,0.45-hss]\n",
    "    s=sep_size*3/8\n",
    "    config_[\"data_params\"][\"size\"][\"mins\"]=[0.45+hss-s,0.45-hss-s]\n",
    "    config_[\"data_params\"][\"size\"][\"maxs\"]=[0.45+hss+s,0.45-hss+s]\n",
    "    return config_"
   ]
  },
  {
   "cell_type": "code",
   "execution_count": 12,
   "metadata": {},
   "outputs": [],
   "source": [
    "configs_sc2ss2sb2=[]\n",
    "for sep_col in [0.2,0.6]:\n",
    "    for sep_size in [0.2,0.35]:\n",
    "        for sep_bg_col in [0.2,0.6]:\n",
    "            for seed in [0,100,200,300,400]:\n",
    "                fol=f\"images_1/2x2x2_final/sc2ss2sb2_re/sep_col={sep_col}_sep_size={sep_size}_sep_bg_col={sep_bg_col}\"\n",
    "                experiment_name=f\"seed={seed}\"\n",
    "                config_=get_config(sep_col=sep_col,sep_size=sep_size,sep_bg_col=sep_bg_col,seed=seed)\n",
    "                config_['n_samples_train']=ntr\n",
    "                config_['n_samples_test']=ntest_gen #intentional\n",
    "                config_['n_samples_train_gen']=ntr_gen\n",
    "                config_['n_samples_test_gen']=ntest_gen\n",
    "                config_[\"fig_n_col\"]=4\n",
    "                if (sep_col,sep_size,sep_bg_col)in [(0.6, 0.2, 0.6),(0.2, 0.2, 0.6),(0.2, 0.35, 0.2)]:\n",
    "                    config_[\"save_ckpts\"]=True\n",
    "                else:\n",
    "                    config_[\"save_ckpts\"]=False\n",
    "                config_=utils.process_config(config_,check_only=True)\n",
    "                experiment_directory=os.path.join(\"data\",fol,experiment_name)\n",
    "                config_[\"experiment_directory\"]=experiment_directory\n",
    "                yaml_fol=os.path.join(\"yamls\",fol)\n",
    "                os.makedirs(yaml_fol,exist_ok=True)\n",
    "                yaml_path=os.path.join(yaml_fol,experiment_name+\".yaml\")\n",
    "                yaml.dump(config_,open(yaml_path,\"w\"))\n",
    "                configs_sc2ss2sb2.append(config_)"
   ]
  },
  {
   "cell_type": "code",
   "execution_count": 13,
   "metadata": {},
   "outputs": [],
   "source": [
    "yaml_files=glob.glob(\"./yamls/images_1/2x2x2_final/sc2ss2sb2_re/*/*.yaml\")\n",
    "\n",
    "n_proc=5\n",
    "chunked=[yaml_files[i::n_proc] for i in range(n_proc)]\n",
    "for i,chunk in enumerate(chunked):\n",
    "    with open(f\"./yamls/images_1/2x2x2_final/sc2ss2sb2_re/yamls_{i}.txt\",\"w\") as f:\n",
    "        for path in chunk:\n",
    "            path=os.path.abspath(path)\n",
    "            f.write(path+\"\\n\")"
   ]
  },
  {
   "cell_type": "code",
   "execution_count": 27,
   "metadata": {},
   "outputs": [],
   "source": [
    "configs_sc3ss1sb3=[]\n",
    "for sep_col in [0.2,0.4,0.6]:\n",
    "    for sep_size in [0.35]:\n",
    "        for sep_bg_col in [0.1,0.2,0.3]:\n",
    "            for seed in [0,100,200,300,400]:\n",
    "                fol=f\"images_1/2x2x2_final/sc3ss1sb3/sep_col={sep_col}_sep_size={sep_size}_sep_bg_col={sep_bg_col}\"\n",
    "                experiment_name=f\"seed={seed}\"\n",
    "                config_=get_config(sep_col=sep_col,sep_size=sep_size,sep_bg_col=sep_bg_col,seed=seed)\n",
    "                config_['n_samples_train']=ntr\n",
    "                config_['n_samples_test']=ntest_gen #intentional\n",
    "                config_['n_samples_train_gen']=ntr_gen\n",
    "                config_['n_samples_test_gen']=ntest_gen\n",
    "                config_[\"fig_n_col\"]=4\n",
    "                config_[\"save_ckpts\"]=True\n",
    "                config_=utils.process_config(config_,check_only=True)\n",
    "                experiment_directory=os.path.join(\"data\",fol,experiment_name)\n",
    "                config_[\"experiment_directory\"]=experiment_directory\n",
    "                yaml_fol=os.path.join(\"yamls\",fol)\n",
    "                os.makedirs(yaml_fol,exist_ok=True)\n",
    "                yaml_path=os.path.join(yaml_fol,experiment_name+\".yaml\")\n",
    "                yaml.dump(config_,open(yaml_path,\"w\"))\n",
    "                configs_sc3ss1sb3.append(config_)"
   ]
  },
  {
   "cell_type": "code",
   "execution_count": 28,
   "metadata": {},
   "outputs": [],
   "source": [
    "yaml_files=glob.glob(\"./yamls/images_1/2x2x2_final/sc3ss1sb3/*/*.yaml\")\n",
    "\n",
    "n_proc=5\n",
    "chunked=[yaml_files[i::n_proc] for i in range(n_proc)]\n",
    "for i,chunk in enumerate(chunked):\n",
    "    with open(f\"./yamls/images_1/2x2x2_final/sc3ss1sb3/yamls_{i}.txt\",\"w\") as f:\n",
    "        for path in chunk:\n",
    "            path=os.path.abspath(path)\n",
    "            f.write(path+\"\\n\")"
   ]
  },
  {
   "cell_type": "code",
   "execution_count": null,
   "metadata": {},
   "outputs": [],
   "source": []
  },
  {
   "cell_type": "code",
   "execution_count": null,
   "metadata": {},
   "outputs": [],
   "source": []
  },
  {
   "cell_type": "code",
   "execution_count": null,
   "metadata": {},
   "outputs": [],
   "source": []
  },
  {
   "cell_type": "code",
   "execution_count": null,
   "metadata": {},
   "outputs": [],
   "source": []
  },
  {
   "cell_type": "code",
   "execution_count": null,
   "metadata": {},
   "outputs": [],
   "source": []
  },
  {
   "cell_type": "code",
   "execution_count": 15,
   "metadata": {},
   "outputs": [],
   "source": [
    "config_=configs_sc2ss2sb2[3*5]\n",
    "x_tr,y_tr,l_tr,x_te,y_te,l_te=utils.generate_data(config_)"
   ]
  },
  {
   "cell_type": "code",
   "execution_count": 16,
   "metadata": {},
   "outputs": [
    {
     "data": {
      "image/png": "[encoded data removed]",
      "text/plain": [
       "<Figure size 800x600 with 12 Axes>"
      ]
     },
     "metadata": {},
     "output_type": "display_data"
    }
   ],
   "source": [
    "import matplotlib.pyplot as plt\n",
    "import tqdm\n",
    "fig,axs=plt.subplots(3,4,figsize=(8,6))\n",
    "for dim in range(y_tr.shape[1]):\n",
    "    ax=axs.flatten()[dim]\n",
    "    l_te_unique=np.unique(l_te)\n",
    "    y_tes=[y_te[l_te==l][0,dim] for l in l_te_unique]\n",
    "    ax.hist(y_tr[:,dim],bins=100,density=True,alpha=0.5)\n",
    "    for y in y_tes:\n",
    "        ax.axvline(y,color=\"r\")\n",
    "    ax.set_title(f\"dim={dim}\")\n",
    "    ax.set_xlim(-0.1,1.1)\n",
    "plt.tight_layout()"
   ]
  },
  {
   "cell_type": "code",
   "execution_count": null,
   "metadata": {},
   "outputs": [],
   "source": []
  },
  {
   "cell_type": "code",
   "execution_count": null,
   "metadata": {},
   "outputs": [],
   "source": []
  },
  {
   "cell_type": "code",
   "execution_count": null,
   "metadata": {},
   "outputs": [],
   "source": []
  }
 ],
 "metadata": {
  "kernelspec": {
   "display_name": "venv1",
   "language": "python",
   "name": "python3"
  },
  "language_info": {
   "codemirror_mode": {
    "name": "ipython",
    "version": 3
   },
   "file_extension": ".py",
   "mimetype": "text/x-python",
   "name": "python",
   "nbconvert_exporter": "python",
   "pygments_lexer": "ipython3",
   "version": "3.10.9"
  },
  "orig_nbformat": 4
 },
 "nbformat": 4,
 "nbformat_minor": 2
}
