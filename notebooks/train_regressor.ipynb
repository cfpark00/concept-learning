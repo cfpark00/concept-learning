{
 "cells": [
  {
   "cell_type": "code",
   "execution_count": 8,
   "metadata": {},
   "outputs": [
    {
     "name": "stdout",
     "output_type": "stream",
     "text": [
      "memory_available [78565]\n",
      "best GPU: 0\n"
     ]
    },
    {
     "data": {
      "text/plain": [
       "<module 'utils' from '/n/home12/cfpark00/ML/ToyCompDiff/utils.py'>"
      ]
     },
     "execution_count": 8,
     "metadata": {},
     "output_type": "execute_result"
    }
   ],
   "source": [
    "import numpy as np\n",
    "import torch\n",
    "import matplotlib.pyplot as plt\n",
    "\n",
    "import models\n",
    "import utils\n",
    "\n",
    "from mltools.networks import networks\n",
    "from mltools.utils import cuda_tools\n",
    "from mltools import ml_utils\n",
    "\n",
    "device=cuda_tools.get_freer_device()\n",
    "\n",
    "import importlib\n",
    "importlib.reload(models)\n",
    "importlib.reload(utils)"
   ]
  },
  {
   "cell_type": "code",
   "execution_count": 14,
   "metadata": {},
   "outputs": [],
   "source": [
    "#config_path=\"./data/images_1/circle_noxy_inis=0.3/seed=0/seed=0.yaml\"\n",
    "#config_path=\"./data/images_1/2x2x2/base/seed=0/seed=0.yaml\"\n",
    "config_paths=[\"./data/images_1/2x2/fcfs_fast/seed=0/seed=0.yaml\",\n",
    "\"./data/images_1/2x2/fcns_fast/seed=0/seed=0.yaml\",\n",
    "\"./data/images_1/2x2/ncfs_fast/seed=0/seed=0.yaml\",\n",
    "\"./data/images_1/2x2/ncns_fast/seed=0/seed=0.yaml\",\n",
    "]\n",
    "config_paths=[\"./data/images_1/2x2_final/fcfs_fast/seed=0/seed=0.yaml\",\n",
    "\"./data/images_1/2x2_final/ncfs_fast/seed=0/seed=0.yaml\",\n",
    "]\n",
    "config_paths=[\"./data/images_1/2x2_final/fcfs_2/seed=0/seed=0.yaml\",\n",
    "\"./data/images_1/2x2_final/ncfs_2/seed=0/seed=0.yaml\",\n",
    "]\n",
    "config_paths=[\"./data/images_1/2x2_final2/sc4ss4/sep_col=0.2_sep_size=0.1/seed=0/seed=0.yaml\",\n",
    "\"./data/images_1/2x2_final2/sc4ss4/sep_col=0.8_sep_size=0.4/seed=0/seed=0.yaml\",\n",
    "\"./data/images_1/2x2_final2/sc3ss2_snarrow/sep_col=0.2_sep_size=0.2/seed=0/seed=0.yaml\",\n",
    "\"./data/images_1/2x2_final2/sc3ss2_snarrow/sep_col=0.8_sep_size=0.4/seed=0/seed=0.yaml\"\n",
    "]\n",
    "#config_paths=[\"./data/images_1/2x2x2_final/sc2ss2sb2/sep_col=0.2_sep_size=0.2_sep_bg_col=0.2/seed=0/seed=0.yaml\",\n",
    "#\"./data/images_1/2x2x2_final/sc2ss2sb2/sep_col=0.6_sep_size=0.35_sep_bg_col=0.6/seed=0/seed=0.yaml\",\n",
    "#]\n",
    "\n",
    "n_tr=4096//len(config_paths)\n",
    "n_test=256//len(config_paths)\n",
    "batch_size=64\n",
    "out_dim=11\n",
    "\n",
    "x_tr=[]\n",
    "y_tr=[]\n",
    "x_te=[]\n",
    "y_te=[]\n",
    "for config_path in config_paths:\n",
    "    config=utils.load_config(config_path)\n",
    "    n_classes=config[\"data_params\"][\"n_classes\"]\n",
    "    config[\"n_samples_train\"]=np.full(n_classes,n_tr)\n",
    "    config[\"n_samples_test\"]=np.full(n_classes,n_test)\n",
    "    x_tr_,y_tr_,_,x_te_,y_te_,_=utils.generate_data(config)\n",
    "    x_tr.append(x_tr_)\n",
    "    y_tr.append(y_tr_)\n",
    "    x_te.append(x_te_)\n",
    "    y_te.append(y_te_)\n",
    "x_tr=torch.tensor(np.concatenate(x_tr,axis=0),dtype=torch.float32).to(device)\n",
    "y_tr=torch.tensor(np.concatenate(y_tr,axis=0),dtype=torch.float32).to(device)\n",
    "x_te=torch.tensor(np.concatenate(x_te,axis=0),dtype=torch.float32).to(device)\n",
    "y_te=torch.tensor(np.concatenate(y_te,axis=0),dtype=torch.float32).to(device)\n"
   ]
  },
  {
   "cell_type": "code",
   "execution_count": 15,
   "metadata": {},
   "outputs": [
    {
     "data": {
      "text/plain": [
       "(torch.Size([16384, 3, 32, 32]),\n",
       " torch.Size([16384, 11]),\n",
       " torch.Size([1024, 3, 32, 32]),\n",
       " torch.Size([1024, 11]))"
      ]
     },
     "execution_count": 15,
     "metadata": {},
     "output_type": "execute_result"
    }
   ],
   "source": [
    "x_tr.shape,y_tr.shape,x_te.shape,y_te.shape"
   ]
  },
  {
   "cell_type": "code",
   "execution_count": 16,
   "metadata": {},
   "outputs": [],
   "source": [
    "train_ds=torch.utils.data.TensorDataset(x_tr,y_tr)\n",
    "train_dl=torch.utils.data.DataLoader(train_ds,batch_size=batch_size,shuffle=True)\n",
    "test_ds=torch.utils.data.TensorDataset(x_te,y_te)\n",
    "test_dl=torch.utils.data.DataLoader(test_ds,batch_size=batch_size,shuffle=False)"
   ]
  },
  {
   "cell_type": "code",
   "execution_count": 17,
   "metadata": {},
   "outputs": [],
   "source": [
    "net=networks.CUNet(shape=(3,32,32),out_channels=64,chs=[32,32,32],norm_groups=4)\n",
    "classifier=models.Classifier(net=net,out_dim=out_dim)\n",
    "classifier=classifier.to(device)\n",
    "optimizer=torch.optim.AdamW(classifier.parameters(),lr=1e-3)\n",
    "classifier.optimizer=optimizer"
   ]
  },
  {
   "cell_type": "code",
   "execution_count": 18,
   "metadata": {},
   "outputs": [
    {
     "name": "stderr",
     "output_type": "stream",
     "text": [
      "Training: 100%|██████████| 10000/10000 [01:44<00:00, 95.77it/s]\n"
     ]
    }
   ],
   "source": [
    "def batch_to_kwargs(batch):\n",
    "    x,l=batch\n",
    "    x=x.to(device)\n",
    "    l=l.to(device)\n",
    "    return {\"x\":x,\"l\":l}\n",
    "train_results=ml_utils.train(model=classifier,dl_tr=train_dl,dl_val=test_dl,\n",
    "device=device,callback_steps=[],callbacks=[],n_steps=10000,batch_to_kwargs=batch_to_kwargs)"
   ]
  },
  {
   "cell_type": "code",
   "execution_count": 19,
   "metadata": {},
   "outputs": [
    {
     "data": {
      "image/png": "[encoded data removed]",
      "text/plain": [
       "<Figure size 640x480 with 1 Axes>"
      ]
     },
     "metadata": {},
     "output_type": "display_data"
    }
   ],
   "source": [
    "plt.plot(train_results[\"online_losses\"])\n",
    "plt.yscale(\"log\")"
   ]
  },
  {
   "cell_type": "code",
   "execution_count": 20,
   "metadata": {},
   "outputs": [
    {
     "data": {
      "text/plain": [
       "1.579802395212937e-05"
      ]
     },
     "execution_count": 20,
     "metadata": {},
     "output_type": "execute_result"
    }
   ],
   "source": [
    "mse_tot=0\n",
    "with torch.no_grad():\n",
    "    classifier.eval()\n",
    "    for x,l in test_dl:\n",
    "        x=x.to(device)\n",
    "        l=l.to(device)\n",
    "        mse_tot+=classifier.get_loss(x,l).item()\n",
    "mse_tot/=len(test_dl)\n",
    "mse_tot"
   ]
  },
  {
   "cell_type": "code",
   "execution_count": null,
   "metadata": {},
   "outputs": [],
   "source": []
  },
  {
   "cell_type": "code",
   "execution_count": 21,
   "metadata": {},
   "outputs": [],
   "source": [
    "#torch.save(classifier.state_dict(),\"./data/images_1/2x2x2/classifier.pth\")\n",
    "#torch.save(classifier.state_dict(),\"./data/images_1/2x2/classifier_combined.pth\")\n",
    "#torch.save(classifier.state_dict(),\"./data/images_1/2x2_final/classifier_2.pth\")\n",
    "torch.save(classifier.state_dict(),\"./data/images_1/2x2_final2/regressor_combined.pth\")\n",
    "#torch.save(classifier.state_dict(),\"./data/images_1/2x2x2_final/re_combined.pth\")"
   ]
  },
  {
   "cell_type": "code",
   "execution_count": null,
   "metadata": {},
   "outputs": [],
   "source": []
  },
  {
   "cell_type": "code",
   "execution_count": null,
   "metadata": {},
   "outputs": [],
   "source": []
  },
  {
   "cell_type": "code",
   "execution_count": null,
   "metadata": {},
   "outputs": [],
   "source": []
  },
  {
   "cell_type": "code",
   "execution_count": null,
   "metadata": {},
   "outputs": [],
   "source": []
  },
  {
   "cell_type": "code",
   "execution_count": null,
   "metadata": {},
   "outputs": [],
   "source": []
  },
  {
   "cell_type": "code",
   "execution_count": null,
   "metadata": {},
   "outputs": [],
   "source": []
  },
  {
   "cell_type": "code",
   "execution_count": 27,
   "metadata": {},
   "outputs": [],
   "source": [
    "classifier_memo=\"\"\"\n",
    "net=networks.CUNet(shape=(3,32,32),out_channels=64,chs=[32,32,32],norm_groups=4)\n",
    "classifier=models.Classifier(net=net,n_classes=[2,2,2,2])\n",
    "classifier=classifier.to(device)\n",
    "\"\"\"\n",
    "with open(\"./data/images_1/circle_noxy_inis=0.3/classifier_memo.txt\",\"w\") as f:\n",
    "    f.write(classifier_memo)\n",
    "torch.save(classifier.state_dict(),\"./data/images_1/circle_noxy_inis=0.3/classifier.pth\")"
   ]
  },
  {
   "cell_type": "code",
   "execution_count": null,
   "metadata": {},
   "outputs": [],
   "source": []
  },
  {
   "cell_type": "code",
   "execution_count": null,
   "metadata": {},
   "outputs": [],
   "source": []
  },
  {
   "cell_type": "code",
   "execution_count": null,
   "metadata": {},
   "outputs": [],
   "source": []
  },
  {
   "cell_type": "code",
   "execution_count": 176,
   "metadata": {},
   "outputs": [
    {
     "data": {
      "text/plain": [
       "3"
      ]
     },
     "execution_count": 176,
     "metadata": {},
     "output_type": "execute_result"
    }
   ],
   "source": [
    "len(classifier.classify(x))"
   ]
  },
  {
   "cell_type": "code",
   "execution_count": 172,
   "metadata": {},
   "outputs": [
    {
     "data": {
      "text/plain": [
       "(tensor([1, 1, 1, 1, 1, 1, 0, 1, 0, 1, 1, 1, 0, 1, 0, 0, 1, 0, 1, 0, 1, 1, 0, 1,\n",
       "         0, 0, 0, 0, 1, 0, 0, 0, 1, 0, 1, 1, 0, 0, 1, 1, 1, 1, 1, 0, 1, 1, 0, 1,\n",
       "         0, 0, 0, 1, 1, 0, 1, 0, 0, 1, 0, 0, 0, 0, 1, 0], device='cuda:0'),\n",
       " tensor([1, 1, 1, 1, 1, 1, 0, 1, 0, 1, 1, 1, 0, 1, 0, 0, 1, 0, 1, 0, 1, 1, 0, 1,\n",
       "         0, 0, 0, 0, 1, 0, 0, 0, 1, 0, 1, 1, 0, 0, 1, 1, 1, 1, 1, 0, 1, 1, 0, 1,\n",
       "         0, 0, 0, 1, 1, 0, 1, 0, 0, 1, 0, 0, 0, 0, 1, 0], device='cuda:0'))"
      ]
     },
     "execution_count": 172,
     "metadata": {},
     "output_type": "execute_result"
    }
   ],
   "source": [
    "classes[2],classes_pred[2]"
   ]
  },
  {
   "cell_type": "code",
   "execution_count": 150,
   "metadata": {},
   "outputs": [
    {
     "data": {
      "text/plain": [
       "torch.Size([64])"
      ]
     },
     "execution_count": 150,
     "metadata": {},
     "output_type": "execute_result"
    }
   ],
   "source": [
    "l.shape"
   ]
  },
  {
   "cell_type": "code",
   "execution_count": null,
   "metadata": {},
   "outputs": [],
   "source": []
  },
  {
   "cell_type": "code",
   "execution_count": null,
   "metadata": {},
   "outputs": [],
   "source": []
  },
  {
   "cell_type": "code",
   "execution_count": 140,
   "metadata": {},
   "outputs": [
    {
     "data": {
      "text/plain": [
       "torch.Size([64, 64, 32, 32])"
      ]
     },
     "execution_count": 140,
     "metadata": {},
     "output_type": "execute_result"
    }
   ],
   "source": [
    "net(torch.randn(64,3,32,32).to(device)).shape"
   ]
  },
  {
   "cell_type": "code",
   "execution_count": 105,
   "metadata": {},
   "outputs": [
    {
     "data": {
      "text/plain": [
       "torch.Size([64, 3, 32, 32])"
      ]
     },
     "execution_count": 105,
     "metadata": {},
     "output_type": "execute_result"
    }
   ],
   "source": [
    "next(iter(train_dl))[0].shape"
   ]
  },
  {
   "cell_type": "code",
   "execution_count": 88,
   "metadata": {},
   "outputs": [
    {
     "data": {
      "text/plain": [
       "torch.Size([32768, 3, 32, 32])"
      ]
     },
     "execution_count": 88,
     "metadata": {},
     "output_type": "execute_result"
    }
   ],
   "source": [
    "xshape"
   ]
  },
  {
   "cell_type": "code",
   "execution_count": 41,
   "metadata": {},
   "outputs": [
    {
     "data": {
      "text/plain": [
       "[tensor([0], device='cuda:0'),\n",
       " tensor([0], device='cuda:0'),\n",
       " tensor([0], device='cuda:0')]"
      ]
     },
     "execution_count": 41,
     "metadata": {},
     "output_type": "execute_result"
    }
   ],
   "source": [
    "classifier.classify(torch.rand(1,3,32,32).to(device))"
   ]
  },
  {
   "cell_type": "code",
   "execution_count": null,
   "metadata": {},
   "outputs": [],
   "source": [
    "classifier_ckpt_path=\"./\""
   ]
  },
  {
   "cell_type": "code",
   "execution_count": null,
   "metadata": {},
   "outputs": [],
   "source": []
  }
 ],
 "metadata": {
  "kernelspec": {
   "display_name": "venv1_ker",
   "language": "python",
   "name": "venv1_ker"
  },
  "language_info": {
   "codemirror_mode": {
    "name": "ipython",
    "version": 3
   },
   "file_extension": ".py",
   "mimetype": "text/x-python",
   "name": "python",
   "nbconvert_exporter": "python",
   "pygments_lexer": "ipython3",
   "version": "3.10.9"
  }
 },
 "nbformat": 4,
 "nbformat_minor": 2
}
