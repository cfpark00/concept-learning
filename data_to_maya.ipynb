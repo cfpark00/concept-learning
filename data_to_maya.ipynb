{
 "cells": [
  {
   "cell_type": "code",
   "execution_count": 41,
   "metadata": {},
   "outputs": [],
   "source": [
    "import numpy as np\n",
    "import torch\n",
    "import matplotlib.pyplot as plt\n",
    "import os\n",
    "import glob\n",
    "import scipy.ndimage as sim\n",
    "\n",
    "\n",
    "import utils"
   ]
  },
  {
   "cell_type": "markdown",
   "metadata": {},
   "source": [
    "Fig2"
   ]
  },
  {
   "cell_type": "code",
   "execution_count": 96,
   "metadata": {},
   "outputs": [],
   "source": [
    "save_dir=\"./data/to_maya/fig2\"\n",
    "os.makedirs(save_dir, exist_ok=True)"
   ]
  },
  {
   "cell_type": "code",
   "execution_count": 97,
   "metadata": {},
   "outputs": [],
   "source": [
    "def sigmoid(x):\n",
    "    return 1/(1+np.exp(-x))\n",
    "thres=0.1"
   ]
  },
  {
   "cell_type": "code",
   "execution_count": 140,
   "metadata": {},
   "outputs": [
    {
     "name": "stdout",
     "output_type": "stream",
     "text": [
      "45 5776 5776\n"
     ]
    }
   ],
   "source": [
    "fols=glob.glob(\"./data/images_1/2x2x2_final/sc3ss1sb3/*/*/\")\n",
    "rows=[]\n",
    "for fol in fols:\n",
    "    pfolname=os.path.basename(os.path.dirname(fol))\n",
    "    seed=int(pfolname.split(\"seed=\")[1].split(\"_\")[0])\n",
    "\n",
    "    ppfolname=os.path.basename(os.path.dirname(os.path.dirname(fol)))\n",
    "    sep_col=float(ppfolname.split(\"sep_col=\")[1].split(\"_\")[0])\n",
    "    sep_size=float(ppfolname.split(\"sep_size=\")[1].split(\"_\")[0])\n",
    "    sep_bgcol=float(ppfolname.split(\"sep_bg_col=\")[1].split(\"_\")[0])\n",
    "    if sep_bgcol not in [0.1,0.2,0.3]:\n",
    "        continue\n",
    "\n",
    "    pix_mse=np.load(os.path.join(fol,\"mse_pix.npy\"))\n",
    "    d_000_001=pix_mse[0,1]\n",
    "    d_000_010=pix_mse[0,2]\n",
    "    d_001_011=pix_mse[1,3]\n",
    "    d_010_011=pix_mse[2,3]\n",
    "\n",
    "    d_000_100=pix_mse[0,4]\n",
    "    d_001_101=pix_mse[1,5]\n",
    "    d_010_110=pix_mse[2,6]\n",
    "    d_011_111=pix_mse[3,7]\n",
    "\n",
    "    d_100_101=pix_mse[4,5]\n",
    "    d_100_110=pix_mse[4,6]\n",
    "    d_101_111=pix_mse[5,7]\n",
    "    d_110_111=pix_mse[6,7]\n",
    "\n",
    "\n",
    "    config_file=glob.glob(os.path.join(fol,\"*.yaml\"))[0]\n",
    "    config=utils.load_config(config_file)\n",
    "    save_steps=np.array(config[\"save_steps\"])\n",
    "    plot_data=torch.load(os.path.join(fol,\"plot_data.pth\"))\n",
    "\n",
    "    classprobs_tr=np.array(plot_data['classprobs_pred_tr'])[...,1]\n",
    "    l_tr=np.array(plot_data['l_tr'])\n",
    "    classprobs_te=np.array(plot_data['classprobs_pred_te'])[...,1]\n",
    "    l_te=np.array(plot_data['l_te'])\n",
    "    #print(classprobs_tr.shape,classprobs_te.shape)\n",
    "\n",
    "    trajs=[]\n",
    "    for l in range(8):\n",
    "        if l in [0,1,2,4]:\n",
    "            trajs.append(classprobs_tr[:,:,l_tr==l].mean(-1))\n",
    "        else:\n",
    "            trajs.append(classprobs_te[:,:,l_te==l].mean(-1))\n",
    "    trajs=np.stack(trajs,axis=0)\n",
    "\n",
    "\n",
    "    gts=np.array([[0.,0,0],[0,0,1],[0,1,0],[0,1,1],[1,0,0],[1,0,1],[1,1,0],[1,1,1]])\n",
    "    trajs_smooth=sim.gaussian_filter1d(trajs,1.0,axis=1,truncate=6.0)\n",
    "    accs=sigmoid(1/(np.abs(gts[:,None,:]-trajs_smooth)/thres+1e-9))\n",
    "\n",
    "    trajs=trajs.transpose(0,2,1).reshape(-1)\n",
    "    accs=accs.transpose(0,2,1).reshape(-1)\n",
    "\n",
    "    rows.append([sep_col,sep_size,sep_bgcol,seed,\n",
    "                 d_000_001,d_000_010,d_001_011,d_010_011,\n",
    "                    d_000_100,d_001_101,d_010_110,d_011_111,\n",
    "                    d_100_101,d_100_110,d_101_111,d_110_111,\n",
    "                    *trajs,*accs,\n",
    "                    ])\n",
    "    #break\n",
    "classnames=np.array([\"000\",\"001\",\"010\",\"011\",\"100\",\"101\",\"110\",\"111\"])\n",
    "dimnames=np.array([\"color\",\"size\",\"bgcolor\"])\n",
    "header_traj=np.char.add(\"traj_\",classnames)\n",
    "header_traj=np.char.add(header_traj,\"_\")\n",
    "header_traj=np.char.add(header_traj[:,None],dimnames[None,:]).flatten()\n",
    "header_traj=np.char.add(header_traj,\"_\")\n",
    "header_traj=np.char.add(header_traj[:,None],save_steps[None,:].astype(str)).flatten()\n",
    "header_acc=np.char.add(\"acc_\",classnames)\n",
    "header_acc=np.char.add(header_acc,\"_\")\n",
    "header_acc=np.char.add(header_acc[:,None],dimnames[None,:]).flatten()\n",
    "header_acc=np.char.add(header_acc,\"_\")\n",
    "header_acc=np.char.add(header_acc[:,None],save_steps[None,:].astype(str)).flatten()\n",
    "header=[\"sep_col\",\"sep_size\",\"sep_bgcol\",\"seed\",\n",
    "        \"d_000_001\",\"d_000_010\",\"d_001_011\",\"d_010_011\",\n",
    "        \"d_000_100\",\"d_001_101\",\"d_010_110\",\"d_011_111\",\n",
    "        \"d_100_101\",\"d_100_110\",\"d_101_111\",\"d_110_111\",\n",
    "        *header_traj,*header_acc\n",
    "        ]\n",
    "data=np.array(rows)\n",
    "\n",
    "print(len(rows),len(rows[0]),len(header))\n",
    "\n",
    "np.savetxt(os.path.join(save_dir,\"fig2_data.csv\"),data,header=\",\".join(header),delimiter=\",\",comments=\"\",fmt='%.4f')"
   ]
  },
  {
   "cell_type": "code",
   "execution_count": null,
   "metadata": {},
   "outputs": [],
   "source": []
  },
  {
   "cell_type": "markdown",
   "metadata": {},
   "source": [
    "Fig3"
   ]
  },
  {
   "cell_type": "code",
   "execution_count": 73,
   "metadata": {},
   "outputs": [],
   "source": [
    "save_dir=\"./data/to_maya/fig3\"\n",
    "os.makedirs(save_dir, exist_ok=True)"
   ]
  },
  {
   "cell_type": "code",
   "execution_count": 74,
   "metadata": {},
   "outputs": [],
   "source": [
    "def get_i_learned(accs,consistent=3):\n",
    "    assert consistent%2==1\n",
    "    #find portion of acc where accs is positive for 3 values\n",
    "    structure=np.ones(consistent)\n",
    "    goods=sim.binary_erosion(accs,structure=structure)\n",
    "    inds=np.nonzero(goods)[0]\n",
    "    if len(inds)>=1:\n",
    "        return np.min(inds)\n",
    "    else:\n",
    "        return None"
   ]
  },
  {
   "cell_type": "code",
   "execution_count": 75,
   "metadata": {},
   "outputs": [],
   "source": [
    "fols=glob.glob(\"./data/images_1/2x2_final2/detailed/*/*/\")\n",
    "rows=[]\n",
    "for fol in fols:\n",
    "    pfolname=os.path.basename(os.path.dirname(fol))\n",
    "    seed=int(pfolname.split(\"seed=\")[1].split(\"_\")[0])\n",
    "\n",
    "    ppfolname=os.path.basename(os.path.dirname(os.path.dirname(fol)))\n",
    "    sep_col=float(ppfolname.split(\"sep_col=\")[1].split(\"_\")[0])\n",
    "    sep_size=float(ppfolname.split(\"sep_size=\")[1].split(\"_\")[0])\n",
    "\n",
    "    pix_mse=np.load(os.path.join(fol,\"mse_pix.npy\"))\n",
    "    d_00_01=pix_mse[0,1]\n",
    "    d_00_10=pix_mse[0,2]\n",
    "    d_01_11=pix_mse[1,3]\n",
    "    d_10_11=pix_mse[2,3]\n",
    "\n",
    "    config_file=glob.glob(os.path.join(fol,\"*.yaml\"))[0]\n",
    "    config=utils.load_config(config_file)\n",
    "    save_steps=np.array(config[\"save_steps\"])\n",
    "    plot_data=torch.load(os.path.join(fol,\"plot_data.pth\"))\n",
    "    acc=plot_data[\"rights_te\"].mean(1)\n",
    "    coloracc=acc[:,0]\n",
    "    sizeacc=acc[:,1]\n",
    "\n",
    "    #calc time\n",
    "    thres=0.9\n",
    "    acc_smoothed=sim.gaussian_filter1d(acc,1.5,axis=0)\n",
    "    i_learned_col=get_i_learned(acc_smoothed[:,0]>thres) \n",
    "    i_learned_size=get_i_learned(acc_smoothed[:,1]>thres)\n",
    "    step_learned_col=-1 if i_learned_col is None else save_steps[i_learned_col]\n",
    "    step_learned_size=-1 if i_learned_size is None else save_steps[i_learned_size]\n",
    "\n",
    "    rows.append([sep_col,sep_size,seed,d_00_01,d_00_10,d_01_11,d_10_11,step_learned_col,step_learned_size,*coloracc,*sizeacc])\n",
    "    #break\n",
    "header_step_col=[str(s) for s in np.char.add(\"coloracc_\",save_steps.astype(str))]\n",
    "header_step_size=[str(s) for s in np.char.add(\"sizeacc_\",save_steps.astype(str))]\n",
    "header=[\"sep_col\",\"sep_size\",\"seed\",\"d_00_01\",\"d_00_10\",\"d_01_11\",\"d_10_11\",\"step_learned_col\",\"step_learned_size\",*header_step_col,*header_step_size]\n",
    "data=np.array(rows)\n",
    "np.savetxt(os.path.join(save_dir,\"fig3_data.csv\"),data,header=\",\".join(header),delimiter=\",\",comments=\"\",fmt='%.4f')"
   ]
  },
  {
   "cell_type": "code",
   "execution_count": null,
   "metadata": {},
   "outputs": [],
   "source": []
  },
  {
   "cell_type": "code",
   "execution_count": null,
   "metadata": {},
   "outputs": [],
   "source": []
  },
  {
   "cell_type": "code",
   "execution_count": null,
   "metadata": {},
   "outputs": [],
   "source": []
  },
  {
   "cell_type": "code",
   "execution_count": null,
   "metadata": {},
   "outputs": [],
   "source": []
  },
  {
   "cell_type": "code",
   "execution_count": 34,
   "metadata": {},
   "outputs": [
    {
     "data": {
      "text/plain": [
       "(50, 2)"
      ]
     },
     "execution_count": 34,
     "metadata": {},
     "output_type": "execute_result"
    }
   ],
   "source": [
    "acc.shape"
   ]
  },
  {
   "cell_type": "code",
   "execution_count": 20,
   "metadata": {},
   "outputs": [
    {
     "data": {
      "text/plain": [
       "245"
      ]
     },
     "execution_count": 20,
     "metadata": {},
     "output_type": "execute_result"
    }
   ],
   "source": [
    "len(fols)"
   ]
  },
  {
   "cell_type": "code",
   "execution_count": null,
   "metadata": {},
   "outputs": [],
   "source": []
  },
  {
   "cell_type": "code",
   "execution_count": null,
   "metadata": {},
   "outputs": [],
   "source": []
  }
 ],
 "metadata": {
  "kernelspec": {
   "display_name": "venv1",
   "language": "python",
   "name": "python3"
  },
  "language_info": {
   "codemirror_mode": {
    "name": "ipython",
    "version": 3
   },
   "file_extension": ".py",
   "mimetype": "text/x-python",
   "name": "python",
   "nbconvert_exporter": "python",
   "pygments_lexer": "ipython3",
   "version": "3.10.9"
  }
 },
 "nbformat": 4,
 "nbformat_minor": 2
}
