{
 "cells": [
  {
   "cell_type": "markdown",
   "metadata": {},
   "source": [
    "ND"
   ]
  },
  {
   "cell_type": "code",
   "execution_count": 2,
   "metadata": {},
   "outputs": [
    {
     "data": {
      "text/plain": [
       "<module 'utils' from '/n/home12/cfpark00/ML/ToyCompDiff/utils.py'>"
      ]
     },
     "execution_count": 2,
     "metadata": {},
     "output_type": "execute_result"
    }
   ],
   "source": [
    "import numpy as np\n",
    "import copy\n",
    "import os\n",
    "import yaml\n",
    "yaml.Dumper.ignore_aliases = lambda *args : True\n",
    "import utils\n",
    "import matplotlib.pyplot as plt\n",
    "import tqdm\n",
    "import glob\n",
    "\n",
    "\n",
    "import importlib\n",
    "importlib.reload(utils)"
   ]
  },
  {
   "cell_type": "code",
   "execution_count": null,
   "metadata": {},
   "outputs": [],
   "source": []
  },
  {
   "cell_type": "code",
   "execution_count": null,
   "metadata": {},
   "outputs": [],
   "source": [
    "def get_concept_gradient(xs,ls,n_classes=[2,2]):\n",
    "    ls_unravel=np.unravel_index(ls,n_classes)\n",
    "    ls_unravel=np.stack(ls_unravel,axis=-1)\n",
    "    x_sels=[]\n",
    "    for dim in range(len(n_classes)):\n",
    "        x_sels_=[]\n",
    "        for i_dim in range(n_classes[dim]):\n",
    "            sel=ls_unravel[:,dim]==i_dim\n",
    "            x_sel=xs[sel]\n",
    "            x_sels_.append(x_sel)#.mean(axis=0)) #x_sels_ k_con_i,N_per,C,H,W\n",
    "        x_sels.append(x_sels_) #x_sels N_concept (k_con_i,N_per,C,H,W)\n",
    "    cgs=[]\n",
    "    for x_sels_ in x_sels:\n",
    "        n_classes_=len(x_sels_)#x_sels_ (k_con_i,N_per,C,H,W)\n",
    "        mses=[]\n",
    "        for i in range(n_classes_):\n",
    "            print(x_sels_[i].shape)\n",
    "            others=[]\n",
    "            for j in range(n_classes_):\n",
    "                if i==j:\n",
    "                    continue\n",
    "                if len(x_sels_[j])>0:\n",
    "                    others.append(x_sels_[j])\n",
    "            others=np.stack(others,axis=0)\n",
    "            print(others.shape,x_sels_[i].shape)\n",
    "            mse=np.mean((others-x_sels_[i][None])**2)\n",
    "            mses.append(mse)\n",
    "            #\"\"\"\n",
    "            plt.figure()\n",
    "            plt.subplot(1,2,1)\n",
    "            i_rand=np.random.randint(len(others))\n",
    "            ii_rand=np.random.randint(len(others[i_rand]))\n",
    "            plt.imshow(others[i_rand][ii_rand].transpose(1,2,0))\n",
    "            plt.subplot(1,2,2)\n",
    "            plt.imshow(x_sels_[i][ii_rand].transpose(1,2,0))\n",
    "            #\"\"\"\n",
    "            assert False\n",
    "        cgs.append(np.array(mses).mean())\n",
    "    return np.array(cgs)\n",
    "    #mse=np.mean((x_sels[0]-x_sels[1])**2)\n",
    "    #return mse"
   ]
  },
  {
   "cell_type": "code",
   "execution_count": null,
   "metadata": {},
   "outputs": [],
   "source": [
    "def get_concept_gradient(xs,ls,n_classes=[2,2]):\n",
    "    assert [n_class==2 for n_class in n_classes]\n",
    "    n_classes=np.array(n_classes)\n",
    "    l_uniques,counts=np.unique(ls,return_counts=True)\n",
    "    assert np.unique(counts).shape[0]==1, \"Not all classes have the same number of samples\"\n",
    "    #ls_unravel=np.stack(np.unravel_index(ls,n_classes),axis=-1)\n",
    "    inds_nd=np.stack(np.meshgrid(*[np.arange(n_class) for n_class in n_classes],indexing=\"ij\"),axis=-1).reshape(-1,len(n_classes))\n",
    "    exists=np.zeros(np.prod(n_classes),dtype=bool)\n",
    "    for l in l_uniques:\n",
    "        exists[l]=1\n",
    "    exists=exists.reshape(n_classes)\n",
    "    cgs=[]\n",
    "    for dim in range(len(n_classes)):\n",
    "        ndim=n_classes[dim]\n",
    "        sel=exists.sum(axis=dim)>1\n",
    "        assert sel.sum()>0,\"Cannot estimate gradient for concept %d\"%dim\n",
    "        sel=np.expand_dims(sel,dim).repeat(ndim,axis=dim)\n",
    "        xs_sels={}\n",
    "        for ind in np.nonzero(sel.flatten())[0]:\n",
    "            dimval=inds_nd[ind][dim]\n",
    "            xs_sels.setdefault(dimval,[]).append(xs[ind==ls])\n",
    "        for dimval in xs_sels:\n",
    "            xs_sels[dimval]=np.stack(xs_sels[dimval],axis=0)\n",
    "        mse=((xs_sels[1]-xs_sels[0])**2).mean((1,2,3,4)).mean(0)\n",
    "        cgs.append(mse)\n",
    "    cgs=np.array(cgs)\n",
    "    cgs/=np.linalg.norm(cgs,axis=-1,keepdims=True)\n",
    "    return cgs"
   ]
  },
  {
   "cell_type": "code",
   "execution_count": null,
   "metadata": {},
   "outputs": [],
   "source": []
  },
  {
   "cell_type": "code",
   "execution_count": null,
   "metadata": {},
   "outputs": [],
   "source": []
  },
  {
   "cell_type": "code",
   "execution_count": 2,
   "metadata": {},
   "outputs": [],
   "source": [
    "def get_ntr_ntest(ns,n_per=128,method=\"fid_axis\"):\n",
    "    indsgrid=np.stack(np.meshgrid(*([np.arange(n) for n in ns]),indexing=\"ij\"),axis=-1)\n",
    "    if method==\"fid_axis\":\n",
    "        n_nonzero=np.sum(indsgrid!=0,axis=-1)\n",
    "        sel=(n_nonzero<=1).flatten().astype(int)\n",
    "        ntr=(sel*n_per).tolist()\n",
    "        ntest=((1-sel)*n_per).tolist()\n",
    "    else:\n",
    "        raise ValueError(\"Unknown method\")\n",
    "    return ntr,ntest"
   ]
  },
  {
   "cell_type": "code",
   "execution_count": 3,
   "metadata": {},
   "outputs": [],
   "source": [
    "config={\n",
    "    'experiment_directory': None,\n",
    "    'seed': None,\n",
    "    \"dataset\":\"images_1\",\n",
    "    'n_samples_train':[],\n",
    "    'n_samples_test':[],\n",
    "    'n_samples_train_gen':[],\n",
    "    'n_samples_test_gen':[],\n",
    "    \"data_params\":{\n",
    "        \"n_classes\":64,\n",
    "        \"image_size\": 32,\n",
    "        \"noise_level\": 0.001,\n",
    "        \"comp_dims\":{\"shape\":None,\"x\":None,\"y\":None,\"color\":2,\"size\":2,\"bg_color\":2},\n",
    "        \n",
    "        #\"shape\":{\"names\":[\"circle\",\"triangle\"]},#will default to circle\n",
    "        \"x\":{\"min\":-0.5,\"max\":0.5,\"n\":None,\"s\":0.05,\"s_n\":0.0},\n",
    "        \"y\":{\"min\":-0.5,\"max\":0.5,\"n\":None,\"s\":0.05,\"s_n\":0.0},\n",
    "        \"color\":{\"means\":[[0.9,0.1,0.1],[0.1,0.1,0.9]],\"mins\":[[0.8,0.0,0.0],[0.0,0.0,0.8]],\"maxs\":[[1.0,0.2,0.2],[0.2,0.2,1.0]],\"s_n\":0.0},\n",
    "        \"size\":{\"means\":[0.6,0.2],\"mins\":[0.52,0.12],\"maxs\":[0.68,0.28],\"s_n\":0.00,\"min\":0.1},\n",
    "        \"bg_color\":{\"means\":[[0.9,0.9,0.9],[0.1,0.1,0.1]],\"mins\":[[0.8,0.8,0.8],[0.0,0.0,0.0]],\"maxs\":[[1.0,1.0,1.0],[0.2,0.2,0.2]],\"s_n\":0.0},\n",
    "    },\n",
    "    \"model_params\":{\n",
    "        \"model_type\": \"VDiff\",\n",
    "        \"optimizer_type\": \"AdamW\",\n",
    "        \"optimizer_params\": {\"lr\": 0.001,\"weight_decay\": 0.01},\n",
    "        \"data_noise\":1e-3,\n",
    "        \"beta_settings\": {\"type\":\"logsnr\",\"noise_schedule\":\"learned_linear\",\"gamma_min\":-5., \"gamma_max\":10.},\n",
    "        \"network_params\": {\"mid_attn\":True,\n",
    "                           \"v_conditioning_type\":\"sep_mlp\",\n",
    "                           \"v_conditioning_dims\":[11],\n",
    "                           \"chs\": [64,128,256],\n",
    "                           \"num_res_blocks\":2,\n",
    "                           \"init_scale\":1.0},\n",
    "    },\n",
    "    \"batch_size\": 64,\n",
    "    \"train_ratio\": 0.85,\n",
    "    'num_steps': 20_000,\n",
    "    'save_steps_start': 500,\n",
    "    'save_steps': 60,\n",
    "\n",
    "    \"fig_n_col\": 4,\n",
    "}"
   ]
  },
  {
   "cell_type": "markdown",
   "metadata": {},
   "source": [
    "2x2"
   ]
  },
  {
   "cell_type": "code",
   "execution_count": 4,
   "metadata": {},
   "outputs": [
    {
     "data": {
      "text/plain": [
       "(6144, 2048, 96, 32)"
      ]
     },
     "execution_count": 4,
     "metadata": {},
     "output_type": "execute_result"
    }
   ],
   "source": [
    "ntr,ntest=get_ntr_ntest([2,2],n_per=2048,method=\"fid_axis\")\n",
    "ntr_gen,ntest_gen=get_ntr_ntest([2,2],n_per=32,method=\"fid_axis\")\n",
    "np.sum(ntr),np.sum(ntest),np.sum(ntr_gen),np.sum(ntest_gen)"
   ]
  },
  {
   "cell_type": "code",
   "execution_count": 5,
   "metadata": {},
   "outputs": [
    {
     "data": {
      "text/plain": [
       "0.275"
      ]
     },
     "execution_count": 5,
     "metadata": {},
     "output_type": "execute_result"
    }
   ],
   "source": [
    "hss=0.1\n",
    "0.45-(7/4)*hss"
   ]
  },
  {
   "cell_type": "code",
   "execution_count": 6,
   "metadata": {},
   "outputs": [],
   "source": [
    "def get_config(sep_col=0.8,sep_size=0.4,seed=0):\n",
    "    assert sep_col<=0.8 and sep_size<=0.4\n",
    "    config_=copy.deepcopy(config)\n",
    "    config_[\"seed\"]=seed\n",
    "\n",
    "    config_[\"data_params\"][\"n_classes\"]=4\n",
    "    config_[\"data_params\"][\"comp_dims\"][\"bg_color\"]=None\n",
    "    #color\n",
    "    hsc=sep_col/2\n",
    "    config_[\"data_params\"][\"color\"][\"means\"]=[[0.5+hsc,0.5-hsc,0.5-hsc],[0.5-hsc,0.5-hsc,0.5+hsc]]\n",
    "    s=sep_col/8\n",
    "    config_[\"data_params\"][\"color\"][\"mins\"]=[[0.5+hsc-s,0.5-hsc-s,0.5-hsc-s],[0.5-hsc-s,0.5-hsc-s,0.5+hsc-s]]\n",
    "    config_[\"data_params\"][\"color\"][\"maxs\"]=[[0.5+hsc+s,0.5-hsc+s,0.5-hsc+s],[0.5-hsc+s,0.5-hsc+s,0.5+hsc+s]]\n",
    "    #size\n",
    "    hss=sep_size/2\n",
    "    config_[\"data_params\"][\"size\"][\"means\"]=[0.45+hss,0.45-hss]\n",
    "    s=sep_size*3/8\n",
    "    config_[\"data_params\"][\"size\"][\"mins\"]=[0.45+hss-s,0.45-hss-s]\n",
    "    config_[\"data_params\"][\"size\"][\"maxs\"]=[0.45+hss+s,0.45-hss+s]\n",
    "    return config_"
   ]
  },
  {
   "cell_type": "code",
   "execution_count": 71,
   "metadata": {},
   "outputs": [],
   "source": [
    "def get_concept_gradient(xs,ls,n_classes=[2,2]):\n",
    "    ls_unravel=np.unravel_index(ls,n_classes)\n",
    "    ls_unravel=np.stack(ls_unravel,axis=-1)\n",
    "    x_sels=[]\n",
    "    for dim in range(len(n_classes)):\n",
    "        x_sels_=[]\n",
    "        for i_dim in range(n_classes[dim]):\n",
    "            sel=ls_unravel[:,dim]==i_dim\n",
    "            x_sel=xs[sel]\n",
    "            x_sels_.append(x_sel)#.mean(axis=0)) #x_sels_ k_con_i,N_per,C,H,W\n",
    "        x_sels.append(x_sels_) #x_sels N_concept (k_con_i,N_per,C,H,W)\n",
    "    cgs=[]\n",
    "    for x_sels_ in x_sels:\n",
    "        n_classes_=len(x_sels_)#x_sels_ (k_con_i,N_per,C,H,W)\n",
    "        mses=[]\n",
    "        for i in range(n_classes_):\n",
    "            print(x_sels_[i].shape)\n",
    "            others=[]\n",
    "            for j in range(n_classes_):\n",
    "                if i==j:\n",
    "                    continue\n",
    "                if len(x_sels_[j])>0:\n",
    "                    others.append(x_sels_[j])\n",
    "            others=np.stack(others,axis=0)\n",
    "            print(others.shape,x_sels_[i].shape)\n",
    "            mse=np.mean((others-x_sels_[i][None])**2)\n",
    "            mses.append(mse)\n",
    "            #\"\"\"\n",
    "            plt.figure()\n",
    "            plt.subplot(1,2,1)\n",
    "            i_rand=np.random.randint(len(others))\n",
    "            ii_rand=np.random.randint(len(others[i_rand]))\n",
    "            plt.imshow(others[i_rand][ii_rand].transpose(1,2,0))\n",
    "            plt.subplot(1,2,2)\n",
    "            plt.imshow(x_sels_[i][ii_rand].transpose(1,2,0))\n",
    "            #\"\"\"\n",
    "            assert False\n",
    "        cgs.append(np.array(mses).mean())\n",
    "    return np.array(cgs)\n",
    "    #mse=np.mean((x_sels[0]-x_sels[1])**2)\n",
    "    #return mse"
   ]
  },
  {
   "cell_type": "code",
   "execution_count": 164,
   "metadata": {},
   "outputs": [],
   "source": [
    "def get_concept_gradient(xs,ls,n_classes=[2,2]):\n",
    "    assert [n_class==2 for n_class in n_classes]\n",
    "    n_classes=np.array(n_classes)\n",
    "    l_uniques,counts=np.unique(ls,return_counts=True)\n",
    "    assert np.unique(counts).shape[0]==1, \"Not all classes have the same number of samples\"\n",
    "    #ls_unravel=np.stack(np.unravel_index(ls,n_classes),axis=-1)\n",
    "    inds_nd=np.stack(np.meshgrid(*[np.arange(n_class) for n_class in n_classes],indexing=\"ij\"),axis=-1).reshape(-1,len(n_classes))\n",
    "    exists=np.zeros(np.prod(n_classes),dtype=bool)\n",
    "    for l in l_uniques:\n",
    "        exists[l]=1\n",
    "    exists=exists.reshape(n_classes)\n",
    "    cgs=[]\n",
    "    for dim in range(len(n_classes)):\n",
    "        ndim=n_classes[dim]\n",
    "        sel=exists.sum(axis=dim)>1\n",
    "        assert sel.sum()>0,\"Cannot estimate gradient for concept %d\"%dim\n",
    "        sel=np.expand_dims(sel,dim).repeat(ndim,axis=dim)\n",
    "        xs_sels={}\n",
    "        for ind in np.nonzero(sel.flatten())[0]:\n",
    "            dimval=inds_nd[ind][dim]\n",
    "            xs_sels.setdefault(dimval,[]).append(xs[ind==ls])\n",
    "        for dimval in xs_sels:\n",
    "            xs_sels[dimval]=np.stack(xs_sels[dimval],axis=0)\n",
    "        mse=((xs_sels[1]-xs_sels[0])**2).mean((1,2,3,4)).mean(0)\n",
    "        cgs.append(mse)\n",
    "    cgs=np.array(cgs)\n",
    "    cgs/=np.linalg.norm(cgs,axis=-1,keepdims=True)\n",
    "    return cgs"
   ]
  },
  {
   "cell_type": "code",
   "execution_count": 149,
   "metadata": {},
   "outputs": [],
   "source": [
    "xs=np.concatenate([x_tr,x_te],axis=0)\n",
    "ls=np.concatenate([l_tr,l_te],axis=0)"
   ]
  },
  {
   "cell_type": "code",
   "execution_count": 151,
   "metadata": {},
   "outputs": [],
   "source": [
    "xs=x_tr\n",
    "ls=l_tr"
   ]
  },
  {
   "cell_type": "code",
   "execution_count": 152,
   "metadata": {},
   "outputs": [
    {
     "data": {
      "text/plain": [
       "array([0.00520534, 0.01710206], dtype=float32)"
      ]
     },
     "execution_count": 152,
     "metadata": {},
     "output_type": "execute_result"
    }
   ],
   "source": [
    "get_concept_gradient(xs,ls,n_classes=[2,2])"
   ]
  },
  {
   "cell_type": "code",
   "execution_count": null,
   "metadata": {},
   "outputs": [],
   "source": []
  },
  {
   "cell_type": "code",
   "execution_count": 39,
   "metadata": {},
   "outputs": [],
   "source": [
    "configs_=[]\n",
    "for sep_col in [0.2,0.4,0.6,0.8]:\n",
    "    for sep_size in [0.1,0.2,0.3,0.4]:\n",
    "        for seed in range(5):\n",
    "            fol=f\"images_1/2x2_final2/sc4ss4/sep_col={sep_col}_sep_size={sep_size}\"\n",
    "            experiment_name=f\"seed={seed}\"\n",
    "            config_=get_config(sep_col=sep_col,sep_size=sep_size,seed=seed)\n",
    "            config_['n_samples_train']=ntr\n",
    "            config_['n_samples_test']=ntest_gen #intentional\n",
    "            config_['n_samples_train_gen']=ntr_gen\n",
    "            config_['n_samples_test_gen']=ntest_gen\n",
    "            config_[\"fig_n_col\"]=2\n",
    "            config_=utils.process_config(config_,check_only=True)\n",
    "            experiment_directory=os.path.join(\"data\",fol,experiment_name)\n",
    "            config_[\"experiment_directory\"]=experiment_directory\n",
    "            yaml_fol=os.path.join(\"yamls\",fol)\n",
    "            os.makedirs(yaml_fol,exist_ok=True)\n",
    "            yaml_path=os.path.join(yaml_fol,experiment_name+\".yaml\")\n",
    "            yaml.dump(config_,open(yaml_path,\"w\"))\n",
    "            configs_.append(config_)"
   ]
  },
  {
   "cell_type": "code",
   "execution_count": 43,
   "metadata": {},
   "outputs": [],
   "source": [
    "yaml_files=glob.glob(\"./yamls/images_1/2x2_final2/sc4ss4/*/*.yaml\")\n",
    "\n",
    "n_proc=10\n",
    "chunked=[yaml_files[i::n_proc] for i in range(n_proc)]\n",
    "for i,chunk in enumerate(chunked):\n",
    "    with open(f\"./yamls/images_1/2x2_final2/sc4ss4/yamls_{i}.txt\",\"w\") as f:\n",
    "        for path in chunk:\n",
    "            path=os.path.abspath(path)\n",
    "            f.write(path+\"\\n\")"
   ]
  },
  {
   "cell_type": "code",
   "execution_count": 9,
   "metadata": {},
   "outputs": [],
   "source": [
    "configs_detailed=[]\n",
    "for sep_col in [0.2,0.3,0.4,0.5,0.6,0.7,0.8]:\n",
    "    for sep_size in [0.2,0.233,0.266,0.3,0.333,0.366,0.4]:\n",
    "        for seed in [0,100,200,300,400]:\n",
    "            fol=f\"images_1/2x2_final2/detailed/sep_col={sep_col}_sep_size={sep_size}\"\n",
    "            experiment_name=f\"seed={seed}\"\n",
    "            config_=get_config(sep_col=sep_col,sep_size=sep_size,seed=seed)\n",
    "            config_['n_samples_train']=ntr\n",
    "            config_['n_samples_test']=ntest_gen #intentional\n",
    "            config_['n_samples_train_gen']=ntr_gen\n",
    "            config_['n_samples_test_gen']=ntest_gen\n",
    "            config_[\"save_ckpts\"]=False\n",
    "            config_[\"fig_n_col\"]=2\n",
    "            config_=utils.process_config(config_,check_only=True)\n",
    "            experiment_directory=os.path.join(\"data\",fol,experiment_name)\n",
    "            config_[\"experiment_directory\"]=experiment_directory\n",
    "            yaml_fol=os.path.join(\"yamls\",fol)\n",
    "            os.makedirs(yaml_fol,exist_ok=True)\n",
    "            yaml_path=os.path.join(yaml_fol,experiment_name+\".yaml\")\n",
    "            yaml.dump(config_,open(yaml_path,\"w\"))\n",
    "            configs_detailed.append(config_)"
   ]
  },
  {
   "cell_type": "code",
   "execution_count": 45,
   "metadata": {},
   "outputs": [],
   "source": [
    "import glob\n",
    "import os\n",
    "yaml_files=glob.glob(\"./yamls/images_1/2x2_final2/detailed/*/*.yaml\")\n",
    "\n",
    "n_proc=10\n",
    "chunked=[yaml_files[i::n_proc] for i in range(n_proc)]\n",
    "for i,chunk in enumerate(chunked):\n",
    "    with open(f\"./yamls/images_1/2x2_final2/detailed/yamls_{i}.txt\",\"w\") as f:\n",
    "        for path in chunk:\n",
    "            path=os.path.abspath(path)\n",
    "            f.write(path+\"\\n\")"
   ]
  },
  {
   "cell_type": "code",
   "execution_count": 156,
   "metadata": {},
   "outputs": [],
   "source": [
    "configs_col_sweep=[]\n",
    "for sep_col in [0.1  , 0.137, 0.174, 0.211, 0.247, 0.284, 0.321, 0.358, 0.395,\n",
    "0.432, 0.468, 0.505, 0.542, 0.579, 0.616, 0.653, 0.689, 0.726,\n",
    "       0.763, 0.8  ]:\n",
    "    for sep_size in [0.4]:\n",
    "        for seed in [0,100,200,300,400]:\n",
    "            fol=f\"images_1/2x2_final2/col_sweep/sep_col={sep_col}_sep_size={sep_size}\"\n",
    "            experiment_name=f\"seed={seed}\"\n",
    "            config_=get_config(sep_col=sep_col,sep_size=sep_size,seed=seed)\n",
    "            config_['n_samples_train']=ntr\n",
    "            config_['n_samples_test']=ntest_gen #intentional\n",
    "            config_['n_samples_train_gen']=ntr_gen\n",
    "            config_['n_samples_test_gen']=ntest_gen\n",
    "            config_[\"save_ckpts\"]=False\n",
    "            config_[\"fig_n_col\"]=2\n",
    "            config_=utils.process_config(config_,check_only=True)\n",
    "            experiment_directory=os.path.join(\"data\",fol,experiment_name)\n",
    "            config_[\"experiment_directory\"]=experiment_directory\n",
    "            yaml_fol=os.path.join(\"yamls\",fol)\n",
    "            os.makedirs(yaml_fol,exist_ok=True)\n",
    "            yaml_path=os.path.join(yaml_fol,experiment_name+\".yaml\")\n",
    "            yaml.dump(config_,open(yaml_path,\"w\"))\n",
    "            configs_col_sweep.append(config_)"
   ]
  },
  {
   "cell_type": "code",
   "execution_count": 53,
   "metadata": {},
   "outputs": [],
   "source": [
    "import glob\n",
    "import os\n",
    "yaml_files=glob.glob(\"./yamls/images_1/2x2_final2/col_sweep/*/*.yaml\")\n",
    "\n",
    "n_proc=4\n",
    "chunked=[yaml_files[i::n_proc] for i in range(n_proc)]\n",
    "for i,chunk in enumerate(chunked):\n",
    "    with open(f\"./yamls/images_1/2x2_final2/col_sweep/yamls_{i}.txt\",\"w\") as f:\n",
    "        for path in chunk:\n",
    "            path=os.path.abspath(path)\n",
    "            f.write(path+\"\\n\")"
   ]
  },
  {
   "cell_type": "code",
   "execution_count": 157,
   "metadata": {},
   "outputs": [],
   "source": [
    "configs_size_sweep=[]\n",
    "for sep_col in [0.4]:\n",
    "    for sep_size in [0.2  , 0.211, 0.221, 0.232, 0.242, 0.253, 0.263, 0.274, 0.284,\n",
    "       0.295, 0.305, 0.316, 0.326, 0.337, 0.347, 0.358, 0.368, 0.379,\n",
    "       0.389, 0.4  ]:\n",
    "        for seed in [0,100,200,300,400]:\n",
    "            fol=f\"images_1/2x2_final2/size_sweep/sep_col={sep_col}_sep_size={sep_size}\"\n",
    "            experiment_name=f\"seed={seed}\"\n",
    "            config_=get_config(sep_col=sep_col,sep_size=sep_size,seed=seed)\n",
    "            config_['n_samples_train']=ntr\n",
    "            config_['n_samples_test']=ntest_gen #intentional\n",
    "            config_['n_samples_train_gen']=ntr_gen\n",
    "            config_['n_samples_test_gen']=ntest_gen\n",
    "            config_[\"save_ckpts\"]=False\n",
    "            config_[\"fig_n_col\"]=2\n",
    "            config_=utils.process_config(config_,check_only=True)\n",
    "            experiment_directory=os.path.join(\"data\",fol,experiment_name)\n",
    "            config_[\"experiment_directory\"]=experiment_directory\n",
    "            yaml_fol=os.path.join(\"yamls\",fol)\n",
    "            os.makedirs(yaml_fol,exist_ok=True)\n",
    "            yaml_path=os.path.join(yaml_fol,experiment_name+\".yaml\")\n",
    "            yaml.dump(config_,open(yaml_path,\"w\"))\n",
    "            configs_size_sweep.append(config_)"
   ]
  },
  {
   "cell_type": "code",
   "execution_count": 56,
   "metadata": {},
   "outputs": [],
   "source": [
    "import glob\n",
    "import os\n",
    "yaml_files=glob.glob(\"./yamls/images_1/2x2_final2/size_sweep/*/*.yaml\")\n",
    "\n",
    "n_proc=4\n",
    "chunked=[yaml_files[i::n_proc] for i in range(n_proc)]\n",
    "for i,chunk in enumerate(chunked):\n",
    "    with open(f\"./yamls/images_1/2x2_final2/size_sweep/yamls_{i}.txt\",\"w\") as f:\n",
    "        for path in chunk:\n",
    "            path=os.path.abspath(path)\n",
    "            f.write(path+\"\\n\")"
   ]
  },
  {
   "cell_type": "code",
   "execution_count": 165,
   "metadata": {},
   "outputs": [
    {
     "name": "stderr",
     "output_type": "stream",
     "text": [
      "100%|██████████| 40/40 [01:03<00:00,  1.59s/it]\n"
     ]
    },
    {
     "data": {
      "text/plain": [
       "(40, 2)"
      ]
     },
     "execution_count": 165,
     "metadata": {},
     "output_type": "execute_result"
    }
   ],
   "source": [
    "cgs=[]\n",
    "include_te=False\n",
    "for config_ in tqdm.tqdm([*configs_col_sweep[::5],*configs_size_sweep[::5]]):\n",
    "#for config_ in tqdm.tqdm([*configs_detailed[::5]]):\n",
    "    config__=copy.deepcopy(config_)\n",
    "    if include_te:\n",
    "        ntr,ntest=get_ntr_ntest([2,2],n_per=2048,method=\"fid_axis\")\n",
    "        config__['n_samples_train']=ntr\n",
    "        config__['n_samples_test']=ntest\n",
    "    else:\n",
    "        ntr,ntest=get_ntr_ntest([2,2],n_per=2048,method=\"fid_axis\")\n",
    "        config__['n_samples_train']=ntr\n",
    "        config__['n_samples_test']=[0 for _ in ntest]\n",
    "    seed=np.random.randint(1000)\n",
    "    x_tr,y_tr,l_tr,x_te,y_te,l_te=utils.generate_data(config__,seed=seed)\n",
    "    if include_te:\n",
    "        xs=np.concatenate([x_tr,x_te],axis=0)\n",
    "        ls=np.concatenate([l_tr,l_te],axis=0)\n",
    "    else:\n",
    "        xs=x_tr\n",
    "        ls=l_tr\n",
    "    cgs_=get_concept_gradient(xs,ls,n_classes=[2,2])\n",
    "    cgs.append(cgs_)\n",
    "cgs=np.stack(cgs,axis=0)\n",
    "cgs.shape"
   ]
  },
  {
   "cell_type": "code",
   "execution_count": 169,
   "metadata": {},
   "outputs": [
    {
     "data": {
      "text/plain": [
       "[<matplotlib.lines.Line2D at 0x147285cb7190>]"
      ]
     },
     "execution_count": 169,
     "metadata": {},
     "output_type": "execute_result"
    },
    {
     "data": {
      "image/png": "[encoded data removed]",
      "text/plain": [
       "<Figure size 500x500 with 1 Axes>"
      ]
     },
     "metadata": {},
     "output_type": "display_data"
    }
   ],
   "source": [
    "_=plt.figure(figsize=(5,5))\n",
    "for i in range(20):\n",
    "    sep_col=[0.1  , 0.137, 0.174, 0.211, 0.247, 0.284, 0.321, 0.358, 0.395,\n",
    "0.432, 0.468, 0.505, 0.542, 0.579, 0.616, 0.653, 0.689, 0.726,\n",
    "       0.763, 0.8  ][i]\n",
    "    sep_size=0.4\n",
    "    plt.scatter(cgs[i,0],cgs[i,1],c=\"r\",label=\"Change in color\" if i==0 else None)\n",
    "    if i==0 or i==19:\n",
    "        plt.annotate(f\"{sep_col}, {sep_size}\",(cgs[i,0],cgs[i,1]))\n",
    "for i in range(20):\n",
    "    sep_col=0.4\n",
    "    sep_size=[0.2  , 0.211, 0.221, 0.232, 0.242, 0.253, 0.263, 0.274, 0.284,\n",
    "    0.295, 0.305, 0.316, 0.326, 0.337, 0.347, 0.358, 0.368, 0.379,\n",
    "    0.389, 0.4  ][i]\n",
    "    plt.scatter(cgs[i+20,0],cgs[i+20,1],c=\"b\",label=\"Change in size\" if i==0 else None)\n",
    "    if i==0 or i==19:\n",
    "        plt.annotate(f\"{sep_col}, {sep_size}\",(cgs[i+20,0],cgs[i+20,1]))\n",
    "plt.xlabel(\"Color\")\n",
    "plt.ylabel(\"Size\")\n",
    "plt.title(\"Concept Gradient\")\n",
    "plt.gca().set_aspect('equal')\n",
    "plt.xlim(left=0)\n",
    "plt.ylim(bottom=0)\n",
    "plt.legend()\n",
    "xlim=plt.gca().get_xlim()\n",
    "ylim=plt.gca().get_ylim()\n",
    "plt.xlim(xlim)\n",
    "plt.ylim(ylim)\n",
    "plt.plot(xlim,ylim,c=\"k\",ls=\"--\")"
   ]
  },
  {
   "cell_type": "code",
   "execution_count": 163,
   "metadata": {},
   "outputs": [],
   "source": [
    "np.save(\"./cg_col_sweep.npy\",cgs[:20])\n",
    "np.save(\"./cg_size_sweep.npy\",cgs[20:])"
   ]
  },
  {
   "cell_type": "code",
   "execution_count": null,
   "metadata": {},
   "outputs": [],
   "source": []
  },
  {
   "cell_type": "code",
   "execution_count": null,
   "metadata": {},
   "outputs": [],
   "source": []
  },
  {
   "cell_type": "code",
   "execution_count": null,
   "metadata": {},
   "outputs": [],
   "source": []
  },
  {
   "cell_type": "code",
   "execution_count": 85,
   "metadata": {},
   "outputs": [],
   "source": [
    "def get_config(sep_col=0.8,sep_size=0.4,seed=0):\n",
    "    assert sep_col<=0.8 and sep_size\n",
    "    config_=copy.deepcopy(config)\n",
    "    config_[\"seed\"]=seed\n",
    "\n",
    "    config_[\"data_params\"][\"n_classes\"]=4\n",
    "    config_[\"data_params\"][\"comp_dims\"][\"bg_color\"]=None\n",
    "    #color\n",
    "    hsc=sep_col/2\n",
    "    config_[\"data_params\"][\"color\"][\"means\"]=[[0.5+hsc,0.5-hsc,0.5-hsc],[0.5-hsc,0.5-hsc,0.5+hsc]]\n",
    "    s=sep_col/8\n",
    "    config_[\"data_params\"][\"color\"][\"mins\"]=[[0.5+hsc-s,0.5-hsc-s,0.5-hsc-s],[0.5-hsc-s,0.5-hsc-s,0.5+hsc-s]]\n",
    "    config_[\"data_params\"][\"color\"][\"maxs\"]=[[0.5+hsc+s,0.5-hsc+s,0.5-hsc+s],[0.5-hsc+s,0.5-hsc+s,0.5+hsc+s]]\n",
    "    #size\n",
    "    hss=sep_size/2\n",
    "    config_[\"data_params\"][\"size\"][\"means\"]=[0.45+hss,0.45-hss]\n",
    "    s=sep_size/8\n",
    "    config_[\"data_params\"][\"size\"][\"mins\"]=[0.45+hss-s,0.45-hss-s]\n",
    "    config_[\"data_params\"][\"size\"][\"maxs\"]=[0.45+hss+s,0.45-hss+s]\n",
    "    return config_"
   ]
  },
  {
   "cell_type": "code",
   "execution_count": 86,
   "metadata": {},
   "outputs": [],
   "source": [
    "configs_=[]\n",
    "for sep_col in [0.2,0.5,0.8]:\n",
    "    for sep_size in [0.2,0.4]:\n",
    "        for seed in range(5):\n",
    "            fol=f\"images_1/2x2_final2/sc3ss2_snarrow/sep_col={sep_col}_sep_size={sep_size}\"\n",
    "            experiment_name=f\"seed={seed}\"\n",
    "            config_=get_config(sep_col=sep_col,sep_size=sep_size,seed=seed)\n",
    "            config_['n_samples_train']=ntr\n",
    "            config_['n_samples_test']=ntest_gen #intentional\n",
    "            config_['n_samples_train_gen']=ntr_gen\n",
    "            config_['n_samples_test_gen']=ntest_gen\n",
    "            config_[\"fig_n_col\"]=2\n",
    "            config_=utils.process_config(config_,check_only=True)\n",
    "            experiment_directory=os.path.join(\"data\",fol,experiment_name)\n",
    "            config_[\"experiment_directory\"]=experiment_directory\n",
    "            yaml_fol=os.path.join(\"yamls\",fol)\n",
    "            os.makedirs(yaml_fol,exist_ok=True)\n",
    "            yaml_path=os.path.join(yaml_fol,experiment_name+\".yaml\")\n",
    "            yaml.dump(config_,open(yaml_path,\"w\"))\n",
    "            configs_.append(config_)"
   ]
  },
  {
   "cell_type": "code",
   "execution_count": null,
   "metadata": {},
   "outputs": [],
   "source": []
  },
  {
   "cell_type": "code",
   "execution_count": 87,
   "metadata": {},
   "outputs": [],
   "source": [
    "import glob\n",
    "import os\n",
    "yaml_files=glob.glob(\"./yamls/images_1/2x2_final2/sc3ss2_snarrow/*/*.yaml\")\n",
    "\n",
    "n_proc=10\n",
    "chunked=[yaml_files[i::n_proc] for i in range(n_proc)]\n",
    "for i,chunk in enumerate(chunked):\n",
    "    with open(f\"yamls_2_{i}.txt\",\"w\") as f:\n",
    "        for path in chunk:\n",
    "            path=os.path.abspath(path)\n",
    "            f.write(path+\"\\n\")"
   ]
  },
  {
   "cell_type": "code",
   "execution_count": null,
   "metadata": {},
   "outputs": [],
   "source": []
  },
  {
   "cell_type": "code",
   "execution_count": 137,
   "metadata": {},
   "outputs": [
    {
     "name": "stderr",
     "output_type": "stream",
     "text": [
      "100%|██████████| 80/80 [03:10<00:00,  2.38s/it]\n"
     ]
    }
   ],
   "source": [
    "cgs=[]\n",
    "for config_ in tqdm.tqdm(configs_):\n",
    "    config__=copy.deepcopy(config_)\n",
    "    config__['n_samples_test']=ntest #for c.g. estimation\n",
    "    seed=np.random.randint(1000)\n",
    "    x_tr,y_tr,l_tr,x_te,y_te,l_te=utils.generate_data(config__,seed=seed)\n",
    "    xs=np.concatenate([x_tr,x_te],axis=0)\n",
    "    ls=np.concatenate([l_tr,l_te],axis=0)\n",
    "    xs=np.concatenate([x_tr,x_te],axis=0)\n",
    "    ls=np.concatenate([l_tr,l_te],axis=0)\n",
    "    cgs_=get_concept_gradient(xs,ls,n_classes=[2,2])\n",
    "    cgs.append(cgs_)\n",
    "cgs=np.stack(cgs,axis=0).reshape(4,4,5,-1)"
   ]
  },
  {
   "cell_type": "code",
   "execution_count": 131,
   "metadata": {},
   "outputs": [
    {
     "data": {
      "text/plain": [
       "[array([0.00490427, 0.00675259], dtype=float32)]"
      ]
     },
     "execution_count": 131,
     "metadata": {},
     "output_type": "execute_result"
    }
   ],
   "source": [
    "cgs"
   ]
  },
  {
   "cell_type": "code",
   "execution_count": 125,
   "metadata": {},
   "outputs": [
    {
     "data": {
      "text/plain": [
       "(6144, 3, 32, 32)"
      ]
     },
     "execution_count": 125,
     "metadata": {},
     "output_type": "execute_result"
    }
   ],
   "source": [
    "x_tr.shape"
   ]
  },
  {
   "cell_type": "code",
   "execution_count": 126,
   "metadata": {},
   "outputs": [
    {
     "data": {
      "text/plain": [
       "[2048, 2048, 2048, 0]"
      ]
     },
     "execution_count": 126,
     "metadata": {},
     "output_type": "execute_result"
    }
   ],
   "source": [
    "config_[\"n_samples_train\"]"
   ]
  },
  {
   "cell_type": "code",
   "execution_count": 127,
   "metadata": {},
   "outputs": [
    {
     "data": {
      "text/plain": [
       "<matplotlib.image.AxesImage at 0x14bc0c47e290>"
      ]
     },
     "execution_count": 127,
     "metadata": {},
     "output_type": "execute_result"
    },
    {
     "data": {
      "image/png": "[encoded data removed]",
      "text/plain": [
       "<Figure size 640x480 with 2 Axes>"
      ]
     },
     "metadata": {},
     "output_type": "display_data"
    }
   ],
   "source": [
    "plt.subplot(1,2,1)\n",
    "plt.imshow(x_tr[l_tr==0][0].transpose(1,2,0))\n",
    "plt.subplot(1,2,2)\n",
    "plt.imshow(x_te[l_te==3][0].transpose(1,2,0))"
   ]
  },
  {
   "cell_type": "code",
   "execution_count": null,
   "metadata": {},
   "outputs": [],
   "source": []
  },
  {
   "cell_type": "code",
   "execution_count": 128,
   "metadata": {},
   "outputs": [
    {
     "data": {
      "text/plain": [
       "Text(0.5, 1.0, 'Concept Gradient')"
      ]
     },
     "execution_count": 128,
     "metadata": {},
     "output_type": "execute_result"
    },
    {
     "data": {
      "image/png": "[encoded data removed]",
      "text/plain": [
       "<Figure size 500x500 with 1 Axes>"
      ]
     },
     "metadata": {},
     "output_type": "display_data"
    }
   ],
   "source": [
    "_=plt.figure(figsize=(5,5))\n",
    "mcgs=cgs.mean(axis=-2)\n",
    "scgs=cgs.std(axis=-2)\n",
    "for i in range(4):\n",
    "    for j in range(4):\n",
    "        sep_col=[0.2,0.4,0.6,0.8][i]\n",
    "        sep_size=[0.1,0.2,0.3,0.4][j]\n",
    "        plt.errorbar(mcgs[i,j,0],mcgs[i,j,1],xerr=5*scgs[i,j,0],yerr=5*scgs[i,j,1],fmt='.',c=\"black\")\n",
    "        plt.annotate(f\"{sep_col}, {sep_size}\",(mcgs[i,j,0],mcgs[i,j,1]))\n",
    "plt.xlabel(\"Color\")\n",
    "plt.ylabel(\"Size\")\n",
    "plt.title(\"Concept Gradient\")"
   ]
  },
  {
   "cell_type": "code",
   "execution_count": null,
   "metadata": {},
   "outputs": [],
   "source": []
  },
  {
   "cell_type": "code",
   "execution_count": 19,
   "metadata": {},
   "outputs": [],
   "source": [
    "config_=configs_[11]\n",
    "x_tr,y_tr,l_tr,x_te,y_te,l_te=utils.generate_data(config_)"
   ]
  },
  {
   "cell_type": "code",
   "execution_count": 20,
   "metadata": {},
   "outputs": [
    {
     "data": {
      "image/png": "[encoded data removed]",
      "text/plain": [
       "<Figure size 800x600 with 12 Axes>"
      ]
     },
     "metadata": {},
     "output_type": "display_data"
    }
   ],
   "source": [
    "import matplotlib.pyplot as plt\n",
    "import tqdm\n",
    "fig,axs=plt.subplots(3,4,figsize=(8,6))\n",
    "for dim in range(y_tr.shape[1]):\n",
    "    ax=axs.flatten()[dim]\n",
    "    l_te_unique=np.unique(l_te)\n",
    "    y_tes=[y_te[l_te==l][0,dim] for l in l_te_unique]\n",
    "    ax.hist(y_tr[:,dim],bins=100,density=True,alpha=0.5)\n",
    "    for y in y_tes:\n",
    "        ax.axvline(y,color=\"r\")\n",
    "    ax.set_title(f\"dim={dim}\")\n",
    "    ax.set_xlim(-0.1,1.1)\n",
    "plt.tight_layout()"
   ]
  },
  {
   "cell_type": "code",
   "execution_count": null,
   "metadata": {},
   "outputs": [],
   "source": []
  },
  {
   "cell_type": "code",
   "execution_count": 121,
   "metadata": {},
   "outputs": [
    {
     "name": "stderr",
     "output_type": "stream",
     "text": [
      "100%|██████████| 4/4 [00:25<00:00,  6.39s/it]\n"
     ]
    },
    {
     "data": {
      "text/plain": [
       "((4, 4), (4, 4))"
      ]
     },
     "execution_count": 121,
     "metadata": {},
     "output_type": "execute_result"
    }
   ],
   "source": [
    "cgs_col=[]\n",
    "cgs_size=[]\n",
    "for sep_col in tqdm.tqdm([0.2,0.4,0.6,0.8]):\n",
    "    for sep_size in [0.1,0.2,0.3,0.4]:\n",
    "        config_=get_config(sep_col=sep_col,sep_size=sep_size,seed=0)\n",
    "        x_tr,y_tr,l_tr,x_te,y_te,l_te=utils.generate_data(config_)\n",
    "        x_all=np.concatenate([x_tr,x_te],axis=0)\n",
    "        l_all=np.concatenate([l_tr,l_te],axis=0)\n",
    "        cgs_col.append(get_concept_gradient(x_all,l_all,n_classes=[2,2],dim=0))\n",
    "        cgs_size.append(get_concept_gradient(x_all,l_all,n_classes=[2,2],dim=1))\n",
    "cgs_col=np.array(cgs_col).reshape(4,4)\n",
    "cgs_size=np.array(cgs_size).reshape(4,4)\n",
    "cgs_col.shape,cgs_size.shape"
   ]
  },
  {
   "cell_type": "code",
   "execution_count": 122,
   "metadata": {},
   "outputs": [
    {
     "name": "stderr",
     "output_type": "stream",
     "text": [
      "No artists with labels found to put in legend.  Note that artists whose label start with an underscore are ignored when legend() is called with no argument.\n"
     ]
    },
    {
     "data": {
      "text/plain": [
       "<matplotlib.legend.Legend at 0x153039ff12a0>"
      ]
     },
     "execution_count": 122,
     "metadata": {},
     "output_type": "execute_result"
    },
    {
     "data": {
      "image/png": "[encoded data removed]",
      "text/plain": [
       "<Figure size 600x600 with 1 Axes>"
      ]
     },
     "metadata": {},
     "output_type": "display_data"
    }
   ],
   "source": [
    "plt.figure(figsize=(6,6))\n",
    "plt.scatter(cgs_col,cgs_size)\n",
    "plt.xlabel(\"color\")\n",
    "plt.ylabel(\"size\")\n",
    "plt.gca().set_aspect('equal')\n",
    "plt.legend()"
   ]
  },
  {
   "cell_type": "code",
   "execution_count": null,
   "metadata": {},
   "outputs": [],
   "source": []
  },
  {
   "cell_type": "code",
   "execution_count": null,
   "metadata": {},
   "outputs": [],
   "source": []
  },
  {
   "cell_type": "code",
   "execution_count": null,
   "metadata": {},
   "outputs": [],
   "source": []
  },
  {
   "cell_type": "code",
   "execution_count": 93,
   "metadata": {},
   "outputs": [
    {
     "data": {
      "text/plain": [
       "(0.026341906, 0.0056774877)"
      ]
     },
     "execution_count": 93,
     "metadata": {},
     "output_type": "execute_result"
    }
   ],
   "source": [
    "#fcns\n",
    "get_concept_gradient(x_all,l_all,n_classes=[2,2],dim=0),get_concept_gradient(x_all,l_all,n_classes=[2,2],dim=1)"
   ]
  },
  {
   "cell_type": "code",
   "execution_count": 86,
   "metadata": {},
   "outputs": [
    {
     "data": {
      "text/plain": [
       "(0.0069876052, 0.0025821605)"
      ]
     },
     "execution_count": 86,
     "metadata": {},
     "output_type": "execute_result"
    }
   ],
   "source": [
    "#ncns\n",
    "get_concept_gradient(x_all,l_all,n_classes=[2,2],dim=0),get_concept_gradient(x_all,l_all,n_classes=[2,2],dim=1)"
   ]
  },
  {
   "cell_type": "code",
   "execution_count": 74,
   "metadata": {},
   "outputs": [
    {
     "data": {
      "text/plain": [
       "(0.01604486, 0.022749947)"
      ]
     },
     "execution_count": 74,
     "metadata": {},
     "output_type": "execute_result"
    }
   ],
   "source": [
    "#ncfs\n",
    "get_concept_gradient(x_all,l_all,n_classes=[2,2],dim=0),get_concept_gradient(x_all,l_all,n_classes=[2,2],dim=1)"
   ]
  },
  {
   "cell_type": "code",
   "execution_count": 66,
   "metadata": {},
   "outputs": [
    {
     "data": {
      "text/plain": [
       "(0.04904562, 0.032170534)"
      ]
     },
     "execution_count": 66,
     "metadata": {},
     "output_type": "execute_result"
    }
   ],
   "source": [
    "#fcfs\n",
    "# get_concept_gradient(x_all,l_all,n_classes=[2,2],dim=0),get_concept_gradient(x_all,l_all,n_classes=[2,2],dim=1)"
   ]
  },
  {
   "cell_type": "code",
   "execution_count": 99,
   "metadata": {},
   "outputs": [
    {
     "data": {
      "text/plain": [
       "<matplotlib.legend.Legend at 0x15303a614d90>"
      ]
     },
     "execution_count": 99,
     "metadata": {},
     "output_type": "execute_result"
    },
    {
     "data": {
      "image/png": "[encoded data removed]",
      "text/plain": [
       "<Figure size 600x600 with 1 Axes>"
      ]
     },
     "metadata": {},
     "output_type": "display_data"
    }
   ],
   "source": [
    "plt.figure(figsize=(6,6))\n",
    "_=plt.scatter(0.026341906, 0.0056774877,label=\"fcns\")\n",
    "_=plt.scatter(0.0069876052, 0.0025821605,label=\"ncns\")\n",
    "_=plt.scatter(0.01604486, 0.022749947,label=\"ncfs\")\n",
    "_=plt.scatter(0.04904562, 0.032170534,label=\"fcfs\")\n",
    "plt.xlabel(\"color\")\n",
    "plt.ylabel(\"size\")\n",
    "plt.gca().set_aspect('equal')\n",
    "plt.legend()"
   ]
  },
  {
   "cell_type": "code",
   "execution_count": null,
   "metadata": {},
   "outputs": [],
   "source": []
  },
  {
   "cell_type": "code",
   "execution_count": null,
   "metadata": {},
   "outputs": [],
   "source": []
  },
  {
   "cell_type": "code",
   "execution_count": null,
   "metadata": {},
   "outputs": [],
   "source": []
  },
  {
   "cell_type": "code",
   "execution_count": null,
   "metadata": {},
   "outputs": [],
   "source": []
  },
  {
   "cell_type": "code",
   "execution_count": 15,
   "metadata": {},
   "outputs": [
    {
     "data": {
      "text/plain": [
       "<bound method GenVDiff.get_loss of GenVDiff(\n",
       "  (model): VDM(\n",
       "    (score_model): CUNet(\n",
       "      (embed_t_conditioning): Sequential(\n",
       "        (0): Linear(in_features=64, out_features=256, bias=True)\n",
       "        (1): GELU(approximate='none')\n",
       "        (2): Linear(in_features=256, out_features=256, bias=True)\n",
       "        (3): GELU(approximate='none')\n",
       "      )\n",
       "      (embeds_v_conditionings): ModuleList(\n",
       "        (0): Identity()\n",
       "      )\n",
       "      (conv_in): Conv2d(3, 64, kernel_size=(3, 3), stride=(1, 1), padding=(1, 1))\n",
       "      (downs): ModuleList(\n",
       "        (0): ResNetDown(\n",
       "          (resnet_blocks): ModuleList(\n",
       "            (0-1): 2 x ResNetBlock(\n",
       "              (net1): Sequential(\n",
       "                (0): GroupNorm(8, 64, eps=1e-06, affine=True)\n",
       "                (1): GELU(approximate='none')\n",
       "                (2): Conv2d(64, 64, kernel_size=(3, 3), stride=(1, 1), padding=(1, 1))\n",
       "              )\n",
       "              (cond_projs): ModuleList(\n",
       "                (0): Sequential(\n",
       "                  (0): Linear(in_features=256, out_features=64, bias=True)\n",
       "                  (1): GELU(approximate='none')\n",
       "                  (2): Linear(in_features=64, out_features=64, bias=True)\n",
       "                  (3): GELU(approximate='none')\n",
       "                )\n",
       "                (1): Sequential(\n",
       "                  (0): Linear(in_features=11, out_features=64, bias=True)\n",
       "                  (1): GELU(approximate='none')\n",
       "                  (2): Linear(in_features=64, out_features=64, bias=True)\n",
       "                  (3): GELU(approximate='none')\n",
       "                )\n",
       "              )\n",
       "              (net2): Sequential(\n",
       "                (0): GroupNorm(8, 64, eps=1e-06, affine=True)\n",
       "                (1): GELU(approximate='none')\n",
       "                (2): Dropout(p=0.1, inplace=False)\n",
       "                (3): Conv2d(64, 64, kernel_size=(3, 3), stride=(1, 1), padding=(1, 1))\n",
       "              )\n",
       "            )\n",
       "          )\n",
       "          (down): Conv2d(64, 64, kernel_size=(2, 2), stride=(2, 2))\n",
       "        )\n",
       "        (1): ResNetDown(\n",
       "          (resnet_blocks): ModuleList(\n",
       "            (0): ResNetBlock(\n",
       "              (net1): Sequential(\n",
       "                (0): GroupNorm(8, 64, eps=1e-06, affine=True)\n",
       "                (1): GELU(approximate='none')\n",
       "                (2): Conv2d(64, 128, kernel_size=(3, 3), stride=(1, 1), padding=(1, 1))\n",
       "              )\n",
       "              (cond_projs): ModuleList(\n",
       "                (0): Sequential(\n",
       "                  (0): Linear(in_features=256, out_features=128, bias=True)\n",
       "                  (1): GELU(approximate='none')\n",
       "                  (2): Linear(in_features=128, out_features=128, bias=True)\n",
       "                  (3): GELU(approximate='none')\n",
       "                )\n",
       "                (1): Sequential(\n",
       "                  (0): Linear(in_features=11, out_features=128, bias=True)\n",
       "                  (1): GELU(approximate='none')\n",
       "                  (2): Linear(in_features=128, out_features=128, bias=True)\n",
       "                  (3): GELU(approximate='none')\n",
       "                )\n",
       "              )\n",
       "              (net2): Sequential(\n",
       "                (0): GroupNorm(8, 128, eps=1e-06, affine=True)\n",
       "                (1): GELU(approximate='none')\n",
       "                (2): Dropout(p=0.1, inplace=False)\n",
       "                (3): Conv2d(128, 128, kernel_size=(3, 3), stride=(1, 1), padding=(1, 1))\n",
       "              )\n",
       "              (skip_conv): Conv2d(64, 128, kernel_size=(1, 1), stride=(1, 1))\n",
       "            )\n",
       "            (1): ResNetBlock(\n",
       "              (net1): Sequential(\n",
       "                (0): GroupNorm(8, 128, eps=1e-06, affine=True)\n",
       "                (1): GELU(approximate='none')\n",
       "                (2): Conv2d(128, 128, kernel_size=(3, 3), stride=(1, 1), padding=(1, 1))\n",
       "              )\n",
       "              (cond_projs): ModuleList(\n",
       "                (0): Sequential(\n",
       "                  (0): Linear(in_features=256, out_features=128, bias=True)\n",
       "                  (1): GELU(approximate='none')\n",
       "                  (2): Linear(in_features=128, out_features=128, bias=True)\n",
       "                  (3): GELU(approximate='none')\n",
       "                )\n",
       "                (1): Sequential(\n",
       "                  (0): Linear(in_features=11, out_features=128, bias=True)\n",
       "                  (1): GELU(approximate='none')\n",
       "                  (2): Linear(in_features=128, out_features=128, bias=True)\n",
       "                  (3): GELU(approximate='none')\n",
       "                )\n",
       "              )\n",
       "              (net2): Sequential(\n",
       "                (0): GroupNorm(8, 128, eps=1e-06, affine=True)\n",
       "                (1): GELU(approximate='none')\n",
       "                (2): Dropout(p=0.1, inplace=False)\n",
       "                (3): Conv2d(128, 128, kernel_size=(3, 3), stride=(1, 1), padding=(1, 1))\n",
       "              )\n",
       "            )\n",
       "          )\n",
       "          (down): Conv2d(128, 128, kernel_size=(2, 2), stride=(2, 2))\n",
       "        )\n",
       "        (2): ResNetDown(\n",
       "          (resnet_blocks): ModuleList(\n",
       "            (0): ResNetBlock(\n",
       "              (net1): Sequential(\n",
       "                (0): GroupNorm(8, 128, eps=1e-06, affine=True)\n",
       "                (1): GELU(approximate='none')\n",
       "                (2): Conv2d(128, 256, kernel_size=(3, 3), stride=(1, 1), padding=(1, 1))\n",
       "              )\n",
       "              (cond_projs): ModuleList(\n",
       "                (0): Sequential(\n",
       "                  (0): Linear(in_features=256, out_features=256, bias=True)\n",
       "                  (1): GELU(approximate='none')\n",
       "                  (2): Linear(in_features=256, out_features=256, bias=True)\n",
       "                  (3): GELU(approximate='none')\n",
       "                )\n",
       "                (1): Sequential(\n",
       "                  (0): Linear(in_features=11, out_features=256, bias=True)\n",
       "                  (1): GELU(approximate='none')\n",
       "                  (2): Linear(in_features=256, out_features=256, bias=True)\n",
       "                  (3): GELU(approximate='none')\n",
       "                )\n",
       "              )\n",
       "              (net2): Sequential(\n",
       "                (0): GroupNorm(8, 256, eps=1e-06, affine=True)\n",
       "                (1): GELU(approximate='none')\n",
       "                (2): Dropout(p=0.1, inplace=False)\n",
       "                (3): Conv2d(256, 256, kernel_size=(3, 3), stride=(1, 1), padding=(1, 1))\n",
       "              )\n",
       "              (skip_conv): Conv2d(128, 256, kernel_size=(1, 1), stride=(1, 1))\n",
       "            )\n",
       "            (1): ResNetBlock(\n",
       "              (net1): Sequential(\n",
       "                (0): GroupNorm(8, 256, eps=1e-06, affine=True)\n",
       "                (1): GELU(approximate='none')\n",
       "                (2): Conv2d(256, 256, kernel_size=(3, 3), stride=(1, 1), padding=(1, 1))\n",
       "              )\n",
       "              (cond_projs): ModuleList(\n",
       "                (0): Sequential(\n",
       "                  (0): Linear(in_features=256, out_features=256, bias=True)\n",
       "                  (1): GELU(approximate='none')\n",
       "                  (2): Linear(in_features=256, out_features=256, bias=True)\n",
       "                  (3): GELU(approximate='none')\n",
       "                )\n",
       "                (1): Sequential(\n",
       "                  (0): Linear(in_features=11, out_features=256, bias=True)\n",
       "                  (1): GELU(approximate='none')\n",
       "                  (2): Linear(in_features=256, out_features=256, bias=True)\n",
       "                  (3): GELU(approximate='none')\n",
       "                )\n",
       "              )\n",
       "              (net2): Sequential(\n",
       "                (0): GroupNorm(8, 256, eps=1e-06, affine=True)\n",
       "                (1): GELU(approximate='none')\n",
       "                (2): Dropout(p=0.1, inplace=False)\n",
       "                (3): Conv2d(256, 256, kernel_size=(3, 3), stride=(1, 1), padding=(1, 1))\n",
       "              )\n",
       "            )\n",
       "          )\n",
       "          (down): Conv2d(256, 256, kernel_size=(2, 2), stride=(2, 2))\n",
       "        )\n",
       "      )\n",
       "      (mid1): ResNetBlock(\n",
       "        (net1): Sequential(\n",
       "          (0): GroupNorm(8, 256, eps=1e-06, affine=True)\n",
       "          (1): GELU(approximate='none')\n",
       "          (2): Conv2d(256, 256, kernel_size=(3, 3), stride=(1, 1), padding=(1, 1))\n",
       "        )\n",
       "        (cond_projs): ModuleList(\n",
       "          (0): Sequential(\n",
       "            (0): Linear(in_features=256, out_features=256, bias=True)\n",
       "            (1): GELU(approximate='none')\n",
       "            (2): Linear(in_features=256, out_features=256, bias=True)\n",
       "            (3): GELU(approximate='none')\n",
       "          )\n",
       "          (1): Sequential(\n",
       "            (0): Linear(in_features=11, out_features=256, bias=True)\n",
       "            (1): GELU(approximate='none')\n",
       "            (2): Linear(in_features=256, out_features=256, bias=True)\n",
       "            (3): GELU(approximate='none')\n",
       "          )\n",
       "        )\n",
       "        (net2): Sequential(\n",
       "          (0): GroupNorm(8, 256, eps=1e-06, affine=True)\n",
       "          (1): GELU(approximate='none')\n",
       "          (2): Dropout(p=0.1, inplace=False)\n",
       "          (3): Conv2d(256, 256, kernel_size=(3, 3), stride=(1, 1), padding=(1, 1))\n",
       "        )\n",
       "      )\n",
       "      (mid_attn1): AttnBlock(\n",
       "        (norm): GroupNorm(8, 256, eps=1e-06, affine=True)\n",
       "        (q): Conv2d(256, 256, kernel_size=(1, 1), stride=(1, 1))\n",
       "        (k): Conv2d(256, 256, kernel_size=(1, 1), stride=(1, 1))\n",
       "        (v): Conv2d(256, 256, kernel_size=(1, 1), stride=(1, 1))\n",
       "        (proj_out): Conv2d(256, 256, kernel_size=(1, 1), stride=(1, 1))\n",
       "      )\n",
       "      (mid2): ResNetBlock(\n",
       "        (net1): Sequential(\n",
       "          (0): GroupNorm(8, 256, eps=1e-06, affine=True)\n",
       "          (1): GELU(approximate='none')\n",
       "          (2): Conv2d(256, 256, kernel_size=(3, 3), stride=(1, 1), padding=(1, 1))\n",
       "        )\n",
       "        (cond_projs): ModuleList(\n",
       "          (0): Sequential(\n",
       "            (0): Linear(in_features=256, out_features=256, bias=True)\n",
       "            (1): GELU(approximate='none')\n",
       "            (2): Linear(in_features=256, out_features=256, bias=True)\n",
       "            (3): GELU(approximate='none')\n",
       "          )\n",
       "          (1): Sequential(\n",
       "            (0): Linear(in_features=11, out_features=256, bias=True)\n",
       "            (1): GELU(approximate='none')\n",
       "            (2): Linear(in_features=256, out_features=256, bias=True)\n",
       "            (3): GELU(approximate='none')\n",
       "          )\n",
       "        )\n",
       "        (net2): Sequential(\n",
       "          (0): GroupNorm(8, 256, eps=1e-06, affine=True)\n",
       "          (1): GELU(approximate='none')\n",
       "          (2): Dropout(p=0.1, inplace=False)\n",
       "          (3): Conv2d(256, 256, kernel_size=(3, 3), stride=(1, 1), padding=(1, 1))\n",
       "        )\n",
       "      )\n",
       "      (ups): ModuleList(\n",
       "        (0): ResNetUp(\n",
       "          (resnet_blocks): ModuleList(\n",
       "            (0-1): 2 x ResNetBlock(\n",
       "              (net1): Sequential(\n",
       "                (0): GroupNorm(8, 256, eps=1e-06, affine=True)\n",
       "                (1): GELU(approximate='none')\n",
       "                (2): Conv2d(256, 256, kernel_size=(3, 3), stride=(1, 1), padding=(1, 1))\n",
       "              )\n",
       "              (cond_projs): ModuleList(\n",
       "                (0): Sequential(\n",
       "                  (0): Linear(in_features=256, out_features=256, bias=True)\n",
       "                  (1): GELU(approximate='none')\n",
       "                  (2): Linear(in_features=256, out_features=256, bias=True)\n",
       "                  (3): GELU(approximate='none')\n",
       "                )\n",
       "                (1): Sequential(\n",
       "                  (0): Linear(in_features=11, out_features=256, bias=True)\n",
       "                  (1): GELU(approximate='none')\n",
       "                  (2): Linear(in_features=256, out_features=256, bias=True)\n",
       "                  (3): GELU(approximate='none')\n",
       "                )\n",
       "              )\n",
       "              (net2): Sequential(\n",
       "                (0): GroupNorm(8, 256, eps=1e-06, affine=True)\n",
       "                (1): GELU(approximate='none')\n",
       "                (2): Dropout(p=0.1, inplace=False)\n",
       "                (3): Conv2d(256, 256, kernel_size=(3, 3), stride=(1, 1), padding=(1, 1))\n",
       "              )\n",
       "            )\n",
       "          )\n",
       "          (up): ConvTranspose2d(256, 128, kernel_size=(2, 2), stride=(2, 2))\n",
       "        )\n",
       "        (1): ResNetUp(\n",
       "          (resnet_blocks): ModuleList(\n",
       "            (0): ResNetBlock(\n",
       "              (net1): Sequential(\n",
       "                (0): GroupNorm(8, 256, eps=1e-06, affine=True)\n",
       "                (1): GELU(approximate='none')\n",
       "                (2): Conv2d(256, 128, kernel_size=(3, 3), stride=(1, 1), padding=(1, 1))\n",
       "              )\n",
       "              (cond_projs): ModuleList(\n",
       "                (0): Sequential(\n",
       "                  (0): Linear(in_features=256, out_features=128, bias=True)\n",
       "                  (1): GELU(approximate='none')\n",
       "                  (2): Linear(in_features=128, out_features=128, bias=True)\n",
       "                  (3): GELU(approximate='none')\n",
       "                )\n",
       "                (1): Sequential(\n",
       "                  (0): Linear(in_features=11, out_features=128, bias=True)\n",
       "                  (1): GELU(approximate='none')\n",
       "                  (2): Linear(in_features=128, out_features=128, bias=True)\n",
       "                  (3): GELU(approximate='none')\n",
       "                )\n",
       "              )\n",
       "              (net2): Sequential(\n",
       "                (0): GroupNorm(8, 128, eps=1e-06, affine=True)\n",
       "                (1): GELU(approximate='none')\n",
       "                (2): Dropout(p=0.1, inplace=False)\n",
       "                (3): Conv2d(128, 128, kernel_size=(3, 3), stride=(1, 1), padding=(1, 1))\n",
       "              )\n",
       "              (skip_conv): Conv2d(256, 128, kernel_size=(1, 1), stride=(1, 1))\n",
       "            )\n",
       "            (1): ResNetBlock(\n",
       "              (net1): Sequential(\n",
       "                (0): GroupNorm(8, 128, eps=1e-06, affine=True)\n",
       "                (1): GELU(approximate='none')\n",
       "                (2): Conv2d(128, 128, kernel_size=(3, 3), stride=(1, 1), padding=(1, 1))\n",
       "              )\n",
       "              (cond_projs): ModuleList(\n",
       "                (0): Sequential(\n",
       "                  (0): Linear(in_features=256, out_features=128, bias=True)\n",
       "                  (1): GELU(approximate='none')\n",
       "                  (2): Linear(in_features=128, out_features=128, bias=True)\n",
       "                  (3): GELU(approximate='none')\n",
       "                )\n",
       "                (1): Sequential(\n",
       "                  (0): Linear(in_features=11, out_features=128, bias=True)\n",
       "                  (1): GELU(approximate='none')\n",
       "                  (2): Linear(in_features=128, out_features=128, bias=True)\n",
       "                  (3): GELU(approximate='none')\n",
       "                )\n",
       "              )\n",
       "              (net2): Sequential(\n",
       "                (0): GroupNorm(8, 128, eps=1e-06, affine=True)\n",
       "                (1): GELU(approximate='none')\n",
       "                (2): Dropout(p=0.1, inplace=False)\n",
       "                (3): Conv2d(128, 128, kernel_size=(3, 3), stride=(1, 1), padding=(1, 1))\n",
       "              )\n",
       "            )\n",
       "          )\n",
       "          (up): ConvTranspose2d(128, 64, kernel_size=(2, 2), stride=(2, 2))\n",
       "        )\n",
       "        (2): ResNetUp(\n",
       "          (resnet_blocks): ModuleList(\n",
       "            (0): ResNetBlock(\n",
       "              (net1): Sequential(\n",
       "                (0): GroupNorm(8, 128, eps=1e-06, affine=True)\n",
       "                (1): GELU(approximate='none')\n",
       "                (2): Conv2d(128, 64, kernel_size=(3, 3), stride=(1, 1), padding=(1, 1))\n",
       "              )\n",
       "              (cond_projs): ModuleList(\n",
       "                (0): Sequential(\n",
       "                  (0): Linear(in_features=256, out_features=64, bias=True)\n",
       "                  (1): GELU(approximate='none')\n",
       "                  (2): Linear(in_features=64, out_features=64, bias=True)\n",
       "                  (3): GELU(approximate='none')\n",
       "                )\n",
       "                (1): Sequential(\n",
       "                  (0): Linear(in_features=11, out_features=64, bias=True)\n",
       "                  (1): GELU(approximate='none')\n",
       "                  (2): Linear(in_features=64, out_features=64, bias=True)\n",
       "                  (3): GELU(approximate='none')\n",
       "                )\n",
       "              )\n",
       "              (net2): Sequential(\n",
       "                (0): GroupNorm(8, 64, eps=1e-06, affine=True)\n",
       "                (1): GELU(approximate='none')\n",
       "                (2): Dropout(p=0.1, inplace=False)\n",
       "                (3): Conv2d(64, 64, kernel_size=(3, 3), stride=(1, 1), padding=(1, 1))\n",
       "              )\n",
       "              (skip_conv): Conv2d(128, 64, kernel_size=(1, 1), stride=(1, 1))\n",
       "            )\n",
       "            (1): ResNetBlock(\n",
       "              (net1): Sequential(\n",
       "                (0): GroupNorm(8, 64, eps=1e-06, affine=True)\n",
       "                (1): GELU(approximate='none')\n",
       "                (2): Conv2d(64, 64, kernel_size=(3, 3), stride=(1, 1), padding=(1, 1))\n",
       "              )\n",
       "              (cond_projs): ModuleList(\n",
       "                (0): Sequential(\n",
       "                  (0): Linear(in_features=256, out_features=64, bias=True)\n",
       "                  (1): GELU(approximate='none')\n",
       "                  (2): Linear(in_features=64, out_features=64, bias=True)\n",
       "                  (3): GELU(approximate='none')\n",
       "                )\n",
       "                (1): Sequential(\n",
       "                  (0): Linear(in_features=11, out_features=64, bias=True)\n",
       "                  (1): GELU(approximate='none')\n",
       "                  (2): Linear(in_features=64, out_features=64, bias=True)\n",
       "                  (3): GELU(approximate='none')\n",
       "                )\n",
       "              )\n",
       "              (net2): Sequential(\n",
       "                (0): GroupNorm(8, 64, eps=1e-06, affine=True)\n",
       "                (1): GELU(approximate='none')\n",
       "                (2): Dropout(p=0.1, inplace=False)\n",
       "                (3): Conv2d(64, 64, kernel_size=(3, 3), stride=(1, 1), padding=(1, 1))\n",
       "              )\n",
       "            )\n",
       "          )\n",
       "          (up): ConvTranspose2d(64, 64, kernel_size=(2, 2), stride=(2, 2))\n",
       "        )\n",
       "      )\n",
       "      (norm_out): GroupNorm(8, 64, eps=1e-06, affine=True)\n",
       "      (act_out): GELU(approximate='none')\n",
       "      (conv_out): Conv2d(64, 3, kernel_size=(3, 3), stride=(1, 1), padding=(1, 1))\n",
       "    )\n",
       "    (gamma): LearnedLinearSchedule()\n",
       "  )\n",
       ")>"
      ]
     },
     "execution_count": 15,
     "metadata": {},
     "output_type": "execute_result"
    }
   ],
   "source": [
    "model.get_loss"
   ]
  },
  {
   "cell_type": "code",
   "execution_count": null,
   "metadata": {},
   "outputs": [],
   "source": []
  },
  {
   "cell_type": "code",
   "execution_count": null,
   "metadata": {},
   "outputs": [],
   "source": [
    "    config_[\"data_params\"][\"size\"][\"means\"]=[0.5,0.3]\n",
    "    config_[\"data_params\"][\"size\"][\"mins\"]=[0.5-0.04,0.3-0.04]\n",
    "    config_[\"data_params\"][\"size\"][\"maxs\"]=[0.5+0.04,0.3+0.04]"
   ]
  },
  {
   "cell_type": "code",
   "execution_count": null,
   "metadata": {},
   "outputs": [],
   "source": []
  },
  {
   "cell_type": "code",
   "execution_count": null,
   "metadata": {},
   "outputs": [],
   "source": []
  },
  {
   "cell_type": "code",
   "execution_count": null,
   "metadata": {},
   "outputs": [],
   "source": []
  },
  {
   "cell_type": "code",
   "execution_count": 21,
   "metadata": {},
   "outputs": [],
   "source": [
    "fol=\"images_1/2x2/ncns_fast\"\n",
    "for seed in range(3):\n",
    "    experiment_name=f\"seed={seed}\"\n",
    "\n",
    "    config_=copy.deepcopy(config)\n",
    "    config_[\"seed\"]=seed\n",
    "\n",
    "    config_[\"data_params\"][\"n_classes\"]=4\n",
    "    config_[\"data_params\"][\"comp_dims\"][\"bg_color\"]=None\n",
    "    config_[\"data_params\"][\"color\"][\"means\"]=[[0.55,0.45,0.45],[0.45,0.45,0.55]]\n",
    "    config_[\"data_params\"][\"color\"][\"mins\"]=[[0.54875,0.44875,0.44875],[0.44875,0.44875,0.54875]]\n",
    "    config_[\"data_params\"][\"color\"][\"maxs\"]=[[0.55125,0.45125,0.45125],[0.45125,0.45125,0.55125]]\n",
    "    config_[\"data_params\"][\"size\"][\"means\"]=[0.5,0.3]\n",
    "    config_[\"data_params\"][\"size\"][\"mins\"]=[0.5-0.04,0.3-0.04]\n",
    "    config_[\"data_params\"][\"size\"][\"maxs\"]=[0.5+0.04,0.3+0.04]\n",
    "\n",
    "    config_['n_samples_train']=ntr\n",
    "    config_['n_samples_test']=ntest_gen #intentional\n",
    "    config_['n_samples_train_gen']=ntr_gen\n",
    "    config_['n_samples_test_gen']=ntest_gen\n",
    "\n",
    "    config_[\"fig_n_col\"]=2\n",
    "    \n",
    "    config_=utils.process_config(config_,check_only=True)\n",
    "    experiment_directory=os.path.join(\"data\",fol,experiment_name)\n",
    "    config_[\"experiment_directory\"]=experiment_directory\n",
    "    yaml_fol=os.path.join(\"yamls\",fol)\n",
    "    os.makedirs(yaml_fol,exist_ok=True)\n",
    "    yaml_path=os.path.join(yaml_fol,experiment_name+\".yaml\")\n",
    "    yaml.dump(config_,open(yaml_path,\"w\"))"
   ]
  },
  {
   "cell_type": "code",
   "execution_count": null,
   "metadata": {},
   "outputs": [],
   "source": []
  },
  {
   "cell_type": "code",
   "execution_count": null,
   "metadata": {},
   "outputs": [],
   "source": []
  },
  {
   "cell_type": "code",
   "execution_count": null,
   "metadata": {},
   "outputs": [],
   "source": []
  },
  {
   "cell_type": "code",
   "execution_count": null,
   "metadata": {},
   "outputs": [],
   "source": []
  },
  {
   "cell_type": "markdown",
   "metadata": {},
   "source": [
    "2x2x2"
   ]
  },
  {
   "cell_type": "code",
   "execution_count": 7,
   "metadata": {},
   "outputs": [
    {
     "data": {
      "text/plain": [
       "(8192, 8192, 128, 128)"
      ]
     },
     "execution_count": 7,
     "metadata": {},
     "output_type": "execute_result"
    }
   ],
   "source": [
    "ntr,ntest=get_ntr_ntest([2,2,2],n_per=2048,method=\"fid_axis\")\n",
    "ntr_gen,ntest_gen=get_ntr_ntest([2,2,2],n_per=32,method=\"fid_axis\")\n",
    "np.sum(ntr),np.sum(ntest),np.sum(ntr_gen),np.sum(ntest_gen)"
   ]
  },
  {
   "cell_type": "code",
   "execution_count": null,
   "metadata": {},
   "outputs": [],
   "source": []
  },
  {
   "cell_type": "code",
   "execution_count": null,
   "metadata": {},
   "outputs": [],
   "source": []
  },
  {
   "cell_type": "code",
   "execution_count": null,
   "metadata": {},
   "outputs": [],
   "source": []
  }
 ],
 "metadata": {
  "kernelspec": {
   "display_name": "venv1_ker",
   "language": "python",
   "name": "venv1_ker"
  },
  "language_info": {
   "codemirror_mode": {
    "name": "ipython",
    "version": 3
   },
   "file_extension": ".py",
   "mimetype": "text/x-python",
   "name": "python",
   "nbconvert_exporter": "python",
   "pygments_lexer": "ipython3",
   "version": "3.10.9"
  },
  "orig_nbformat": 4
 },
 "nbformat": 4,
 "nbformat_minor": 2
}
